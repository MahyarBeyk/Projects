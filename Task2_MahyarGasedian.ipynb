{
  "nbformat": 4,
  "nbformat_minor": 0,
  "metadata": {
    "colab": {
      "provenance": []
    },
    "kernelspec": {
      "name": "python3",
      "display_name": "Python 3"
    },
    "language_info": {
      "name": "python"
    }
  },
  "cells": [
    {
      "cell_type": "markdown",
      "source": [
        "# Importing packages"
      ],
      "metadata": {
        "id": "aC7u0_SPlKUO"
      }
    },
    {
      "cell_type": "code",
      "execution_count": null,
      "metadata": {
        "id": "_-T7doB-R-u0"
      },
      "outputs": [],
      "source": [
        "import random\n",
        "import matplotlib.pyplot as plt\n",
        "import matplotlib\n",
        "import numpy as np\n",
        "import pandas as pd\n",
        "\n",
        "from PIL import Image\n",
        "\n",
        "import tensorflow as tf\n",
        "from tensorflow.keras import layers\n",
        "from tensorflow.keras import Sequential\n",
        "from tensorflow.keras.layers import Dense, Dropout\n",
        "from tensorflow.keras.datasets import mnist\n",
        "from tensorflow.keras.datasets import fashion_mnist\n",
        "from tensorflow.keras.utils import to_categorical\n",
        "from numpy import asarray\n",
        "from matplotlib.ticker import (MultipleLocator, FormatStrFormatter)\n",
        "\n",
        "plt.rcParams['axes.titlesize'] = 16\n",
        "plt.rcParams['axes.labelsize'] = 14\n",
        "plt.rcParams['image.cmap'] = 'gray'"
      ]
    },
    {
      "cell_type": "markdown",
      "source": [
        "# Making Database"
      ],
      "metadata": {
        "id": "q4Gyjq4FlfEw"
      }
    },
    {
      "cell_type": "markdown",
      "source": [
        "## Circle"
      ],
      "metadata": {
        "id": "QMOHhImahBWt"
      }
    },
    {
      "cell_type": "code",
      "source": [
        "number_data_circle = 3720"
      ],
      "metadata": {
        "id": "U4ItuJJhhxbA"
      },
      "execution_count": null,
      "outputs": []
    },
    {
      "cell_type": "code",
      "source": [
        "img = Image.open('/content/drive/MyDrive/ForCoding/shapes/circle/0.png')\n",
        "X_train_all = np.array(img).reshape(1,200*200)\n",
        "\n",
        "for i in range(1,number_data_circle):\n",
        "  img = Image.open('/content/drive/MyDrive/ForCoding/shapes/circle/'+str(i)+'.png')\n",
        "  X_train_all = np.vstack((X_train_all,np.array(img).reshape(1,200*200)))"
      ],
      "metadata": {
        "id": "55bvfiBjSws2"
      },
      "execution_count": null,
      "outputs": []
    },
    {
      "cell_type": "code",
      "source": [
        "X_train_all.shape"
      ],
      "metadata": {
        "colab": {
          "base_uri": "https://localhost:8080/"
        },
        "id": "oHE76iGXXcpg",
        "outputId": "0e2a48d4-49b5-4c38-de5c-080bd548c5f1"
      },
      "execution_count": null,
      "outputs": [
        {
          "output_type": "execute_result",
          "data": {
            "text/plain": [
              "(3720, 40000)"
            ]
          },
          "metadata": {},
          "execution_count": 4
        }
      ]
    },
    {
      "cell_type": "code",
      "source": [
        "# circle = 1\n",
        "\n",
        "y_train_all = np.array([1]*number_data_circle)"
      ],
      "metadata": {
        "id": "G3c9gllzfRBK"
      },
      "execution_count": null,
      "outputs": []
    },
    {
      "cell_type": "code",
      "source": [
        "y_train_all.shape"
      ],
      "metadata": {
        "colab": {
          "base_uri": "https://localhost:8080/"
        },
        "id": "vanc272riAAs",
        "outputId": "7702a0f7-299a-47d2-e75a-b06f5cba6453"
      },
      "execution_count": null,
      "outputs": [
        {
          "output_type": "execute_result",
          "data": {
            "text/plain": [
              "(3720,)"
            ]
          },
          "metadata": {},
          "execution_count": 6
        }
      ]
    },
    {
      "cell_type": "markdown",
      "source": [
        "## Triangle"
      ],
      "metadata": {
        "id": "qwxQF3FMiOAu"
      }
    },
    {
      "cell_type": "code",
      "source": [
        "number_data_triangle = 3720"
      ],
      "metadata": {
        "id": "XZwH9-kYiRYG"
      },
      "execution_count": null,
      "outputs": []
    },
    {
      "cell_type": "code",
      "source": [
        "for i in range(number_data_triangle):\n",
        "  img = Image.open('/content/drive/MyDrive/ForCoding/shapes/triangle/'+str(i)+'.png')\n",
        "  X_train_all = np.vstack((X_train_all,np.array(img).reshape(1,200*200)))"
      ],
      "metadata": {
        "id": "XFLHbg-LiXun"
      },
      "execution_count": null,
      "outputs": []
    },
    {
      "cell_type": "code",
      "source": [
        "X_train_all.shape"
      ],
      "metadata": {
        "colab": {
          "base_uri": "https://localhost:8080/"
        },
        "id": "UYTLyX4bin3r",
        "outputId": "df4c27a3-01e8-40a8-9c81-5e772713dd0d"
      },
      "execution_count": null,
      "outputs": [
        {
          "output_type": "execute_result",
          "data": {
            "text/plain": [
              "(7440, 40000)"
            ]
          },
          "metadata": {},
          "execution_count": 9
        }
      ]
    },
    {
      "cell_type": "code",
      "source": [
        "# triangle = 2\n",
        "\n",
        "y_train_all = np.append(y_train_all, np.array([2]*number_data_triangle))"
      ],
      "metadata": {
        "id": "5nggRstTir_Z"
      },
      "execution_count": null,
      "outputs": []
    },
    {
      "cell_type": "code",
      "source": [
        "y_train_all.shape"
      ],
      "metadata": {
        "colab": {
          "base_uri": "https://localhost:8080/"
        },
        "id": "IQ_CUH6XjaA1",
        "outputId": "a9a7078b-0f8a-4615-def2-38b7df060461"
      },
      "execution_count": null,
      "outputs": [
        {
          "output_type": "execute_result",
          "data": {
            "text/plain": [
              "(7440,)"
            ]
          },
          "metadata": {},
          "execution_count": 11
        }
      ]
    },
    {
      "cell_type": "markdown",
      "source": [
        "## Square"
      ],
      "metadata": {
        "id": "8pS_bmsaj0ne"
      }
    },
    {
      "cell_type": "code",
      "source": [
        "number_data_square = 3765"
      ],
      "metadata": {
        "id": "AzUrhnpfj2Kh"
      },
      "execution_count": null,
      "outputs": []
    },
    {
      "cell_type": "code",
      "source": [
        "for i in range(number_data_square):\n",
        "  img = Image.open('/content/drive/MyDrive/ForCoding/shapes/square/'+str(i)+'.png')\n",
        "  X_train_all = np.vstack((X_train_all,np.array(img).reshape(1,200*200)))"
      ],
      "metadata": {
        "id": "HwH48fxjj50O"
      },
      "execution_count": null,
      "outputs": []
    },
    {
      "cell_type": "code",
      "source": [
        "X_train_all.shape"
      ],
      "metadata": {
        "colab": {
          "base_uri": "https://localhost:8080/"
        },
        "id": "-VAgUjSykDAj",
        "outputId": "75d82eac-fad5-4ba2-f615-3f75567702c3"
      },
      "execution_count": null,
      "outputs": [
        {
          "output_type": "execute_result",
          "data": {
            "text/plain": [
              "(11205, 40000)"
            ]
          },
          "metadata": {},
          "execution_count": 14
        }
      ]
    },
    {
      "cell_type": "code",
      "source": [
        "# square = 3\n",
        "\n",
        "y_train_all = np.append(y_train_all, np.array([3]*number_data_square))"
      ],
      "metadata": {
        "id": "Ml7vmgCKkJIc"
      },
      "execution_count": null,
      "outputs": []
    },
    {
      "cell_type": "code",
      "source": [
        "y_train_all.shape"
      ],
      "metadata": {
        "colab": {
          "base_uri": "https://localhost:8080/"
        },
        "id": "V59WFD4EkTOt",
        "outputId": "fbd081eb-bc77-4e7c-97cd-af66f9071491"
      },
      "execution_count": null,
      "outputs": [
        {
          "output_type": "execute_result",
          "data": {
            "text/plain": [
              "(11205,)"
            ]
          },
          "metadata": {},
          "execution_count": 16
        }
      ]
    },
    {
      "cell_type": "markdown",
      "source": [
        "## Star"
      ],
      "metadata": {
        "id": "-3_77zmekWim"
      }
    },
    {
      "cell_type": "code",
      "source": [
        "number_data_star = 3765"
      ],
      "metadata": {
        "id": "gTwhiZY9kaSG"
      },
      "execution_count": null,
      "outputs": []
    },
    {
      "cell_type": "code",
      "source": [
        "for i in range(number_data_star):\n",
        "  img = Image.open('/content/drive/MyDrive/ForCoding/shapes/star/'+str(i)+'.png')\n",
        "  X_train_all = np.vstack((X_train_all,np.array(img).reshape(1,200*200)))"
      ],
      "metadata": {
        "id": "LEdjWOoUkvWJ"
      },
      "execution_count": null,
      "outputs": []
    },
    {
      "cell_type": "code",
      "source": [
        "X_train_all.shape"
      ],
      "metadata": {
        "colab": {
          "base_uri": "https://localhost:8080/"
        },
        "id": "dyIHLwVbk7C9",
        "outputId": "4e956e78-8e41-4f5d-c5cd-46f697d3b3e5"
      },
      "execution_count": null,
      "outputs": [
        {
          "output_type": "execute_result",
          "data": {
            "text/plain": [
              "(14970, 40000)"
            ]
          },
          "metadata": {},
          "execution_count": 19
        }
      ]
    },
    {
      "cell_type": "code",
      "source": [
        "# star = 4\n",
        "\n",
        "y_train_all = np.append(y_train_all, np.array([4]*number_data_star))"
      ],
      "metadata": {
        "id": "-CUey6d0k9vi"
      },
      "execution_count": null,
      "outputs": []
    },
    {
      "cell_type": "code",
      "source": [
        "y_train_all.shape"
      ],
      "metadata": {
        "colab": {
          "base_uri": "https://localhost:8080/"
        },
        "id": "jY2rC6bAlEjr",
        "outputId": "6a824247-16ae-4528-eed7-339ca802e8db"
      },
      "execution_count": null,
      "outputs": [
        {
          "output_type": "execute_result",
          "data": {
            "text/plain": [
              "(14970,)"
            ]
          },
          "metadata": {},
          "execution_count": 21
        }
      ]
    },
    {
      "cell_type": "markdown",
      "source": [
        "# Train Test Split"
      ],
      "metadata": {
        "id": "8Fwl_Ie2YvS7"
      }
    },
    {
      "cell_type": "code",
      "source": [
        "number_of_test_data = 750"
      ],
      "metadata": {
        "id": "XftBB6noY0qy"
      },
      "execution_count": null,
      "outputs": []
    },
    {
      "cell_type": "code",
      "source": [
        "test_indices = []\n",
        "for i in range(number_of_test_data):\n",
        "  test_indices.append(np.random.randint(X_train_all.shape[0]))\n",
        "\n",
        "test_indices"
      ],
      "metadata": {
        "colab": {
          "base_uri": "https://localhost:8080/"
        },
        "id": "z74NKHNV76QF",
        "outputId": "d7d8551e-4166-43bf-97bc-67718746b4b0"
      },
      "execution_count": null,
      "outputs": [
        {
          "output_type": "execute_result",
          "data": {
            "text/plain": [
              "[7842,\n",
              " 14895,\n",
              " 5232,\n",
              " 2538,\n",
              " 10163,\n",
              " 7236,\n",
              " 8285,\n",
              " 5452,\n",
              " 7354,\n",
              " 478,\n",
              " 12640,\n",
              " 1593,\n",
              " 2634,\n",
              " 13823,\n",
              " 7916,\n",
              " 6913,\n",
              " 10284,\n",
              " 6277,\n",
              " 11693,\n",
              " 13319,\n",
              " 10072,\n",
              " 10166,\n",
              " 2974,\n",
              " 6488,\n",
              " 11820,\n",
              " 14487,\n",
              " 5325,\n",
              " 8536,\n",
              " 7010,\n",
              " 4650,\n",
              " 5837,\n",
              " 3846,\n",
              " 4308,\n",
              " 7578,\n",
              " 5349,\n",
              " 3897,\n",
              " 14742,\n",
              " 14718,\n",
              " 5473,\n",
              " 8079,\n",
              " 8591,\n",
              " 10709,\n",
              " 6190,\n",
              " 10018,\n",
              " 14569,\n",
              " 4803,\n",
              " 13565,\n",
              " 1973,\n",
              " 1498,\n",
              " 852,\n",
              " 283,\n",
              " 8787,\n",
              " 10978,\n",
              " 10687,\n",
              " 8014,\n",
              " 7206,\n",
              " 912,\n",
              " 3987,\n",
              " 11247,\n",
              " 2950,\n",
              " 3161,\n",
              " 4830,\n",
              " 12732,\n",
              " 7253,\n",
              " 1778,\n",
              " 1684,\n",
              " 11407,\n",
              " 2289,\n",
              " 9186,\n",
              " 7597,\n",
              " 4476,\n",
              " 10870,\n",
              " 2984,\n",
              " 10404,\n",
              " 6615,\n",
              " 9580,\n",
              " 1912,\n",
              " 13935,\n",
              " 651,\n",
              " 9960,\n",
              " 7243,\n",
              " 5220,\n",
              " 7424,\n",
              " 13339,\n",
              " 2860,\n",
              " 4809,\n",
              " 12492,\n",
              " 44,\n",
              " 2023,\n",
              " 5239,\n",
              " 9742,\n",
              " 11094,\n",
              " 9139,\n",
              " 7812,\n",
              " 11752,\n",
              " 11128,\n",
              " 11745,\n",
              " 854,\n",
              " 7044,\n",
              " 8399,\n",
              " 1631,\n",
              " 9065,\n",
              " 6836,\n",
              " 5292,\n",
              " 1,\n",
              " 14477,\n",
              " 10293,\n",
              " 6870,\n",
              " 9903,\n",
              " 4808,\n",
              " 14430,\n",
              " 9203,\n",
              " 11450,\n",
              " 8682,\n",
              " 13007,\n",
              " 2543,\n",
              " 2775,\n",
              " 10277,\n",
              " 4396,\n",
              " 4790,\n",
              " 4910,\n",
              " 3579,\n",
              " 11763,\n",
              " 9019,\n",
              " 10461,\n",
              " 2459,\n",
              " 283,\n",
              " 6191,\n",
              " 2057,\n",
              " 8110,\n",
              " 13184,\n",
              " 4910,\n",
              " 7627,\n",
              " 6768,\n",
              " 11685,\n",
              " 13086,\n",
              " 7532,\n",
              " 4027,\n",
              " 2811,\n",
              " 7747,\n",
              " 958,\n",
              " 3033,\n",
              " 3712,\n",
              " 6663,\n",
              " 9530,\n",
              " 13966,\n",
              " 4467,\n",
              " 11221,\n",
              " 407,\n",
              " 9258,\n",
              " 5924,\n",
              " 2933,\n",
              " 906,\n",
              " 2915,\n",
              " 9338,\n",
              " 8483,\n",
              " 2325,\n",
              " 11309,\n",
              " 11493,\n",
              " 7933,\n",
              " 13681,\n",
              " 10272,\n",
              " 11566,\n",
              " 2254,\n",
              " 8294,\n",
              " 10125,\n",
              " 5270,\n",
              " 11198,\n",
              " 2585,\n",
              " 10688,\n",
              " 8144,\n",
              " 8302,\n",
              " 12863,\n",
              " 12392,\n",
              " 2634,\n",
              " 10154,\n",
              " 13371,\n",
              " 12144,\n",
              " 4398,\n",
              " 694,\n",
              " 9071,\n",
              " 12560,\n",
              " 12510,\n",
              " 9917,\n",
              " 5568,\n",
              " 2413,\n",
              " 3670,\n",
              " 9450,\n",
              " 8117,\n",
              " 2760,\n",
              " 5965,\n",
              " 669,\n",
              " 13280,\n",
              " 7962,\n",
              " 7428,\n",
              " 10563,\n",
              " 10940,\n",
              " 11502,\n",
              " 4721,\n",
              " 7395,\n",
              " 13748,\n",
              " 9688,\n",
              " 4694,\n",
              " 3046,\n",
              " 2530,\n",
              " 8634,\n",
              " 4907,\n",
              " 12161,\n",
              " 10531,\n",
              " 3907,\n",
              " 14040,\n",
              " 7775,\n",
              " 11443,\n",
              " 7396,\n",
              " 11592,\n",
              " 12799,\n",
              " 8026,\n",
              " 13810,\n",
              " 11818,\n",
              " 10042,\n",
              " 3608,\n",
              " 11829,\n",
              " 14173,\n",
              " 5082,\n",
              " 7654,\n",
              " 11252,\n",
              " 13020,\n",
              " 2151,\n",
              " 6411,\n",
              " 7962,\n",
              " 5542,\n",
              " 1761,\n",
              " 7983,\n",
              " 4762,\n",
              " 12480,\n",
              " 7825,\n",
              " 14667,\n",
              " 856,\n",
              " 13822,\n",
              " 3030,\n",
              " 13568,\n",
              " 11776,\n",
              " 14433,\n",
              " 5315,\n",
              " 6992,\n",
              " 3035,\n",
              " 8278,\n",
              " 14054,\n",
              " 6195,\n",
              " 3731,\n",
              " 12049,\n",
              " 12566,\n",
              " 3162,\n",
              " 1924,\n",
              " 10922,\n",
              " 4325,\n",
              " 13375,\n",
              " 10258,\n",
              " 5646,\n",
              " 2755,\n",
              " 5863,\n",
              " 3176,\n",
              " 2511,\n",
              " 9879,\n",
              " 4185,\n",
              " 6267,\n",
              " 10619,\n",
              " 9397,\n",
              " 8966,\n",
              " 2746,\n",
              " 12935,\n",
              " 14837,\n",
              " 1065,\n",
              " 4248,\n",
              " 2028,\n",
              " 5007,\n",
              " 13457,\n",
              " 4393,\n",
              " 7347,\n",
              " 7943,\n",
              " 12719,\n",
              " 3746,\n",
              " 7857,\n",
              " 5518,\n",
              " 6120,\n",
              " 8078,\n",
              " 13122,\n",
              " 3513,\n",
              " 7089,\n",
              " 359,\n",
              " 5190,\n",
              " 4866,\n",
              " 13816,\n",
              " 12041,\n",
              " 11041,\n",
              " 2863,\n",
              " 239,\n",
              " 12747,\n",
              " 13822,\n",
              " 14244,\n",
              " 8891,\n",
              " 11632,\n",
              " 946,\n",
              " 12604,\n",
              " 12943,\n",
              " 5691,\n",
              " 11543,\n",
              " 14267,\n",
              " 661,\n",
              " 5141,\n",
              " 1999,\n",
              " 10669,\n",
              " 11524,\n",
              " 5166,\n",
              " 9651,\n",
              " 5665,\n",
              " 13907,\n",
              " 9633,\n",
              " 7871,\n",
              " 12408,\n",
              " 7879,\n",
              " 13876,\n",
              " 8823,\n",
              " 10546,\n",
              " 13339,\n",
              " 2215,\n",
              " 5481,\n",
              " 9167,\n",
              " 12832,\n",
              " 3191,\n",
              " 1414,\n",
              " 9281,\n",
              " 6204,\n",
              " 5631,\n",
              " 7352,\n",
              " 13952,\n",
              " 3996,\n",
              " 6778,\n",
              " 893,\n",
              " 5499,\n",
              " 4712,\n",
              " 1582,\n",
              " 7394,\n",
              " 2629,\n",
              " 1019,\n",
              " 4570,\n",
              " 3700,\n",
              " 4842,\n",
              " 3820,\n",
              " 12926,\n",
              " 3705,\n",
              " 2140,\n",
              " 12873,\n",
              " 2364,\n",
              " 7486,\n",
              " 1378,\n",
              " 13553,\n",
              " 4666,\n",
              " 5891,\n",
              " 2306,\n",
              " 14341,\n",
              " 9535,\n",
              " 3008,\n",
              " 10015,\n",
              " 8047,\n",
              " 7811,\n",
              " 5010,\n",
              " 8226,\n",
              " 9077,\n",
              " 5614,\n",
              " 5159,\n",
              " 818,\n",
              " 7937,\n",
              " 6345,\n",
              " 12795,\n",
              " 1492,\n",
              " 11100,\n",
              " 4082,\n",
              " 2164,\n",
              " 8785,\n",
              " 1093,\n",
              " 4942,\n",
              " 5260,\n",
              " 13417,\n",
              " 7100,\n",
              " 11488,\n",
              " 3412,\n",
              " 8763,\n",
              " 8862,\n",
              " 13478,\n",
              " 2941,\n",
              " 12251,\n",
              " 11732,\n",
              " 3803,\n",
              " 4913,\n",
              " 6000,\n",
              " 5297,\n",
              " 4334,\n",
              " 13134,\n",
              " 5646,\n",
              " 1840,\n",
              " 2994,\n",
              " 12101,\n",
              " 9132,\n",
              " 9962,\n",
              " 4844,\n",
              " 963,\n",
              " 13829,\n",
              " 9099,\n",
              " 10454,\n",
              " 8418,\n",
              " 3037,\n",
              " 9077,\n",
              " 10077,\n",
              " 14325,\n",
              " 2521,\n",
              " 14399,\n",
              " 10923,\n",
              " 9494,\n",
              " 6016,\n",
              " 14298,\n",
              " 13029,\n",
              " 14342,\n",
              " 12341,\n",
              " 842,\n",
              " 6316,\n",
              " 10302,\n",
              " 10429,\n",
              " 13633,\n",
              " 2317,\n",
              " 2287,\n",
              " 10726,\n",
              " 9138,\n",
              " 357,\n",
              " 396,\n",
              " 8783,\n",
              " 9440,\n",
              " 11680,\n",
              " 8464,\n",
              " 5834,\n",
              " 9029,\n",
              " 4420,\n",
              " 8098,\n",
              " 7696,\n",
              " 4592,\n",
              " 9580,\n",
              " 9349,\n",
              " 1576,\n",
              " 4444,\n",
              " 11845,\n",
              " 1400,\n",
              " 13303,\n",
              " 3825,\n",
              " 702,\n",
              " 10201,\n",
              " 8515,\n",
              " 760,\n",
              " 1422,\n",
              " 5844,\n",
              " 12858,\n",
              " 13873,\n",
              " 13773,\n",
              " 6612,\n",
              " 10987,\n",
              " 5522,\n",
              " 12,\n",
              " 8357,\n",
              " 13518,\n",
              " 2433,\n",
              " 9982,\n",
              " 4072,\n",
              " 3030,\n",
              " 6427,\n",
              " 4455,\n",
              " 11585,\n",
              " 12880,\n",
              " 6921,\n",
              " 1968,\n",
              " 5137,\n",
              " 12985,\n",
              " 1129,\n",
              " 196,\n",
              " 6555,\n",
              " 10834,\n",
              " 9976,\n",
              " 5716,\n",
              " 2889,\n",
              " 13458,\n",
              " 13254,\n",
              " 12136,\n",
              " 11902,\n",
              " 14353,\n",
              " 14728,\n",
              " 6376,\n",
              " 3635,\n",
              " 12395,\n",
              " 11094,\n",
              " 7927,\n",
              " 6967,\n",
              " 2835,\n",
              " 8068,\n",
              " 11911,\n",
              " 13682,\n",
              " 11345,\n",
              " 1689,\n",
              " 12730,\n",
              " 14963,\n",
              " 9040,\n",
              " 3216,\n",
              " 9780,\n",
              " 3603,\n",
              " 13569,\n",
              " 10019,\n",
              " 4103,\n",
              " 10630,\n",
              " 399,\n",
              " 12967,\n",
              " 2913,\n",
              " 13230,\n",
              " 12773,\n",
              " 7651,\n",
              " 11518,\n",
              " 11965,\n",
              " 8647,\n",
              " 9867,\n",
              " 1056,\n",
              " 14930,\n",
              " 11392,\n",
              " 2002,\n",
              " 9494,\n",
              " 1585,\n",
              " 1843,\n",
              " 4188,\n",
              " 6743,\n",
              " 6873,\n",
              " 8113,\n",
              " 10325,\n",
              " 6411,\n",
              " 13344,\n",
              " 5475,\n",
              " 7451,\n",
              " 1124,\n",
              " 9081,\n",
              " 3749,\n",
              " 6949,\n",
              " 4407,\n",
              " 4663,\n",
              " 3961,\n",
              " 5595,\n",
              " 11023,\n",
              " 841,\n",
              " 246,\n",
              " 7358,\n",
              " 9417,\n",
              " 12702,\n",
              " 6717,\n",
              " 4891,\n",
              " 10290,\n",
              " 12664,\n",
              " 3288,\n",
              " 8519,\n",
              " 13903,\n",
              " 5154,\n",
              " 10478,\n",
              " 884,\n",
              " 4302,\n",
              " 9526,\n",
              " 3984,\n",
              " 13607,\n",
              " 3335,\n",
              " 14480,\n",
              " 6266,\n",
              " 13299,\n",
              " 8446,\n",
              " 13926,\n",
              " 8056,\n",
              " 8684,\n",
              " 13342,\n",
              " 13967,\n",
              " 6756,\n",
              " 5207,\n",
              " 10595,\n",
              " 6437,\n",
              " 2980,\n",
              " 4861,\n",
              " 3799,\n",
              " 8850,\n",
              " 12860,\n",
              " 9004,\n",
              " 10966,\n",
              " 6841,\n",
              " 6388,\n",
              " 2444,\n",
              " 2703,\n",
              " 13007,\n",
              " 11315,\n",
              " 2481,\n",
              " 5019,\n",
              " 10712,\n",
              " 2264,\n",
              " 9252,\n",
              " 5350,\n",
              " 13413,\n",
              " 14672,\n",
              " 14217,\n",
              " 12772,\n",
              " 5768,\n",
              " 7810,\n",
              " 6365,\n",
              " 5872,\n",
              " 3443,\n",
              " 4984,\n",
              " 14895,\n",
              " 8627,\n",
              " 7353,\n",
              " 5897,\n",
              " 13386,\n",
              " 5489,\n",
              " 806,\n",
              " 12962,\n",
              " 7077,\n",
              " 10523,\n",
              " 5821,\n",
              " 8781,\n",
              " 7110,\n",
              " 3514,\n",
              " 6527,\n",
              " 1829,\n",
              " 14321,\n",
              " 3646,\n",
              " 7448,\n",
              " 623,\n",
              " 6749,\n",
              " 8973,\n",
              " 4915,\n",
              " 3599,\n",
              " 13013,\n",
              " 8708,\n",
              " 2353,\n",
              " 7281,\n",
              " 11354,\n",
              " 4496,\n",
              " 9867,\n",
              " 14834,\n",
              " 10541,\n",
              " 349,\n",
              " 13332,\n",
              " 11863,\n",
              " 2699,\n",
              " 4249,\n",
              " 3355,\n",
              " 13893,\n",
              " 10770,\n",
              " 2643,\n",
              " 501,\n",
              " 5523,\n",
              " 6131,\n",
              " 13705,\n",
              " 5055,\n",
              " 520,\n",
              " 2670,\n",
              " 10288,\n",
              " 13194,\n",
              " 12932,\n",
              " 8176,\n",
              " 14019,\n",
              " 5294,\n",
              " 5123,\n",
              " 12241,\n",
              " 5981,\n",
              " 282,\n",
              " 577,\n",
              " 2023,\n",
              " 7490,\n",
              " 9000,\n",
              " 10317,\n",
              " 4966,\n",
              " 5286,\n",
              " 1768,\n",
              " 3026,\n",
              " 4860,\n",
              " 12808,\n",
              " 13649,\n",
              " 4972,\n",
              " 12731,\n",
              " 489,\n",
              " 7888,\n",
              " 10604,\n",
              " 11771,\n",
              " 11994,\n",
              " 11729,\n",
              " 13250,\n",
              " 14480,\n",
              " 10885,\n",
              " 293,\n",
              " 10612,\n",
              " 8554,\n",
              " 3379,\n",
              " 5936,\n",
              " 8502,\n",
              " 6202,\n",
              " 314,\n",
              " 7164,\n",
              " 5054,\n",
              " 715,\n",
              " 14257,\n",
              " 9250,\n",
              " 6103,\n",
              " 14865,\n",
              " 4211,\n",
              " 3553,\n",
              " 1435,\n",
              " 5173,\n",
              " 5463,\n",
              " 6869,\n",
              " 69,\n",
              " 177,\n",
              " 2458,\n",
              " 12621,\n",
              " 3308,\n",
              " 6919,\n",
              " 13154,\n",
              " 14219,\n",
              " 5423,\n",
              " 5763,\n",
              " 1016,\n",
              " 1415,\n",
              " 10072,\n",
              " 13029,\n",
              " 1854,\n",
              " 4965,\n",
              " 13098,\n",
              " 8760,\n",
              " 12973,\n",
              " 6267,\n",
              " 1209,\n",
              " 940,\n",
              " 7705,\n",
              " 1331,\n",
              " 1417,\n",
              " 3278,\n",
              " 7512,\n",
              " 8812,\n",
              " 6005,\n",
              " 12742,\n",
              " 11896,\n",
              " 12131,\n",
              " 12463,\n",
              " 7832,\n",
              " 5030]"
            ]
          },
          "metadata": {},
          "execution_count": 23
        }
      ]
    },
    {
      "cell_type": "code",
      "source": [
        "for i in test_indices:\n",
        "  if test_indices.index(i)==0:\n",
        "    X_test = np.array(X_train_all[i])\n",
        "  else:\n",
        "    X_test = np.vstack((X_test,X_train_all[i]))"
      ],
      "metadata": {
        "id": "0aS9VStwcqt5"
      },
      "execution_count": null,
      "outputs": []
    },
    {
      "cell_type": "code",
      "source": [
        "Flag = 0\n",
        "\n",
        "for i in range(X_train_all.shape[0]):\n",
        "  if i in test_indices:\n",
        "    continue\n",
        "  elif Flag == 0:\n",
        "    X_train = np.array(X_train_all[i])\n",
        "    Flag += 1\n",
        "  else:\n",
        "    X_train = np.vstack((X_train,X_train_all[i]))"
      ],
      "metadata": {
        "id": "H-zCuyjk1vzo"
      },
      "execution_count": null,
      "outputs": []
    },
    {
      "cell_type": "code",
      "source": [
        "X_test.shape"
      ],
      "metadata": {
        "colab": {
          "base_uri": "https://localhost:8080/"
        },
        "id": "WWTpzsEAZg6v",
        "outputId": "9f60f38b-fe51-405e-9db1-992490432053"
      },
      "execution_count": null,
      "outputs": [
        {
          "output_type": "execute_result",
          "data": {
            "text/plain": [
              "(750, 40000)"
            ]
          },
          "metadata": {},
          "execution_count": 26
        }
      ]
    },
    {
      "cell_type": "code",
      "source": [
        "X_train.shape"
      ],
      "metadata": {
        "id": "qL4-6PYIZgEv",
        "colab": {
          "base_uri": "https://localhost:8080/"
        },
        "outputId": "0c7f68a8-309e-4d34-e9f4-fe15417a02d0"
      },
      "execution_count": null,
      "outputs": [
        {
          "output_type": "execute_result",
          "data": {
            "text/plain": [
              "(14241, 40000)"
            ]
          },
          "metadata": {},
          "execution_count": 27
        }
      ]
    },
    {
      "cell_type": "code",
      "source": [
        "X_train"
      ],
      "metadata": {
        "colab": {
          "base_uri": "https://localhost:8080/"
        },
        "id": "HhBJ-SfkSIoJ",
        "outputId": "eb430d07-0e47-4779-e455-8acbefac2ed1"
      },
      "execution_count": null,
      "outputs": [
        {
          "output_type": "execute_result",
          "data": {
            "text/plain": [
              "array([[255, 255, 255, ..., 255, 255, 255],\n",
              "       [255, 255, 255, ..., 255, 255, 255],\n",
              "       [255, 255, 255, ..., 255, 255, 255],\n",
              "       ...,\n",
              "       [255, 255, 255, ..., 255, 255, 255],\n",
              "       [255, 255, 255, ..., 255, 255, 255],\n",
              "       [255, 255, 255, ..., 255, 255, 255]], dtype=uint8)"
            ]
          },
          "metadata": {},
          "execution_count": 28
        }
      ]
    },
    {
      "cell_type": "code",
      "source": [
        "for i in test_indices:\n",
        "  if test_indices.index(i)==0:\n",
        "    y_test = np.array(y_train_all[i])\n",
        "  else:\n",
        "    y_test = np.append(y_test,y_train_all[i])"
      ],
      "metadata": {
        "id": "ZiuuF2vtZdrf"
      },
      "execution_count": null,
      "outputs": []
    },
    {
      "cell_type": "code",
      "source": [
        "Flag = 0\n",
        "\n",
        "for i in range(y_train_all.shape[0]):\n",
        "  if i in test_indices:\n",
        "    continue\n",
        "  elif Flag == 0:\n",
        "    y_train = np.array(y_train_all[i])\n",
        "    Flag += 1\n",
        "  else:\n",
        "    y_train = np.vstack((y_train,y_train_all[i]))"
      ],
      "metadata": {
        "id": "51v9jWBQ7YOR"
      },
      "execution_count": null,
      "outputs": []
    },
    {
      "cell_type": "code",
      "source": [
        "y_test.shape"
      ],
      "metadata": {
        "id": "6_DxVHfoaFz_",
        "colab": {
          "base_uri": "https://localhost:8080/"
        },
        "outputId": "cdbcdcfc-8d7d-4c86-8316-8ba3cbaaeb7c"
      },
      "execution_count": null,
      "outputs": [
        {
          "output_type": "execute_result",
          "data": {
            "text/plain": [
              "(750,)"
            ]
          },
          "metadata": {},
          "execution_count": 31
        }
      ]
    },
    {
      "cell_type": "code",
      "source": [
        "y_train.shape"
      ],
      "metadata": {
        "id": "tKIkBB0IaFr2",
        "colab": {
          "base_uri": "https://localhost:8080/"
        },
        "outputId": "f09d1e98-a5c6-4c9a-810e-283c2271b325"
      },
      "execution_count": null,
      "outputs": [
        {
          "output_type": "execute_result",
          "data": {
            "text/plain": [
              "(14241, 1)"
            ]
          },
          "metadata": {},
          "execution_count": 32
        }
      ]
    },
    {
      "cell_type": "markdown",
      "source": [
        "# Saving data in a dataframe (???)"
      ],
      "metadata": {
        "id": "IiBdeHZ3meCy"
      }
    },
    {
      "cell_type": "code",
      "source": [
        "df = pd.DataFrame(data=[X_train_all],columns=[\"value\"])"
      ],
      "metadata": {
        "colab": {
          "base_uri": "https://localhost:8080/",
          "height": 287
        },
        "id": "zPK-XIIenNhy",
        "outputId": "76f7e040-172a-4575-91d5-43a2b952b020"
      },
      "execution_count": null,
      "outputs": [
        {
          "output_type": "error",
          "ename": "ValueError",
          "evalue": "Must pass 2-d input. shape=(1, 120, 40000)",
          "traceback": [
            "\u001b[0;31m---------------------------------------------------------------------------\u001b[0m",
            "\u001b[0;31mValueError\u001b[0m                                Traceback (most recent call last)",
            "\u001b[0;32m<ipython-input-112-2251a8dd3095>\u001b[0m in \u001b[0;36m<cell line: 1>\u001b[0;34m()\u001b[0m\n\u001b[0;32m----> 1\u001b[0;31m \u001b[0mdf\u001b[0m \u001b[0;34m=\u001b[0m \u001b[0mpd\u001b[0m\u001b[0;34m.\u001b[0m\u001b[0mDataFrame\u001b[0m\u001b[0;34m(\u001b[0m\u001b[0mdata\u001b[0m\u001b[0;34m=\u001b[0m\u001b[0;34m[\u001b[0m\u001b[0mX_train_all\u001b[0m\u001b[0;34m]\u001b[0m\u001b[0;34m,\u001b[0m\u001b[0mcolumns\u001b[0m\u001b[0;34m=\u001b[0m\u001b[0;34m[\u001b[0m\u001b[0;34m\"value\"\u001b[0m\u001b[0;34m]\u001b[0m\u001b[0;34m)\u001b[0m\u001b[0;34m\u001b[0m\u001b[0;34m\u001b[0m\u001b[0m\n\u001b[0m",
            "\u001b[0;32m/usr/local/lib/python3.10/dist-packages/pandas/core/frame.py\u001b[0m in \u001b[0;36m__init__\u001b[0;34m(self, data, index, columns, dtype, copy)\u001b[0m\n\u001b[1;32m    796\u001b[0m                     )\n\u001b[1;32m    797\u001b[0m                 \u001b[0;32melse\u001b[0m\u001b[0;34m:\u001b[0m\u001b[0;34m\u001b[0m\u001b[0;34m\u001b[0m\u001b[0m\n\u001b[0;32m--> 798\u001b[0;31m                     mgr = ndarray_to_mgr(\n\u001b[0m\u001b[1;32m    799\u001b[0m                         \u001b[0mdata\u001b[0m\u001b[0;34m,\u001b[0m\u001b[0;34m\u001b[0m\u001b[0;34m\u001b[0m\u001b[0m\n\u001b[1;32m    800\u001b[0m                         \u001b[0mindex\u001b[0m\u001b[0;34m,\u001b[0m\u001b[0;34m\u001b[0m\u001b[0;34m\u001b[0m\u001b[0m\n",
            "\u001b[0;32m/usr/local/lib/python3.10/dist-packages/pandas/core/internals/construction.py\u001b[0m in \u001b[0;36mndarray_to_mgr\u001b[0;34m(values, index, columns, dtype, copy, typ)\u001b[0m\n\u001b[1;32m    318\u001b[0m         \u001b[0;31m# by definition an array here\u001b[0m\u001b[0;34m\u001b[0m\u001b[0;34m\u001b[0m\u001b[0m\n\u001b[1;32m    319\u001b[0m         \u001b[0;31m# the dtypes will be coerced to a single dtype\u001b[0m\u001b[0;34m\u001b[0m\u001b[0;34m\u001b[0m\u001b[0m\n\u001b[0;32m--> 320\u001b[0;31m         \u001b[0mvalues\u001b[0m \u001b[0;34m=\u001b[0m \u001b[0m_prep_ndarraylike\u001b[0m\u001b[0;34m(\u001b[0m\u001b[0mvalues\u001b[0m\u001b[0;34m,\u001b[0m \u001b[0mcopy\u001b[0m\u001b[0;34m=\u001b[0m\u001b[0mcopy_on_sanitize\u001b[0m\u001b[0;34m)\u001b[0m\u001b[0;34m\u001b[0m\u001b[0;34m\u001b[0m\u001b[0m\n\u001b[0m\u001b[1;32m    321\u001b[0m \u001b[0;34m\u001b[0m\u001b[0m\n\u001b[1;32m    322\u001b[0m     \u001b[0;32mif\u001b[0m \u001b[0mdtype\u001b[0m \u001b[0;32mis\u001b[0m \u001b[0;32mnot\u001b[0m \u001b[0;32mNone\u001b[0m \u001b[0;32mand\u001b[0m \u001b[0;32mnot\u001b[0m \u001b[0mis_dtype_equal\u001b[0m\u001b[0;34m(\u001b[0m\u001b[0mvalues\u001b[0m\u001b[0;34m.\u001b[0m\u001b[0mdtype\u001b[0m\u001b[0;34m,\u001b[0m \u001b[0mdtype\u001b[0m\u001b[0;34m)\u001b[0m\u001b[0;34m:\u001b[0m\u001b[0;34m\u001b[0m\u001b[0;34m\u001b[0m\u001b[0m\n",
            "\u001b[0;32m/usr/local/lib/python3.10/dist-packages/pandas/core/internals/construction.py\u001b[0m in \u001b[0;36m_prep_ndarraylike\u001b[0;34m(values, copy)\u001b[0m\n\u001b[1;32m    558\u001b[0m         \u001b[0mvalues\u001b[0m \u001b[0;34m=\u001b[0m \u001b[0mconvert\u001b[0m\u001b[0;34m(\u001b[0m\u001b[0mvalues\u001b[0m\u001b[0;34m)\u001b[0m\u001b[0;34m\u001b[0m\u001b[0;34m\u001b[0m\u001b[0m\n\u001b[1;32m    559\u001b[0m \u001b[0;34m\u001b[0m\u001b[0m\n\u001b[0;32m--> 560\u001b[0;31m     \u001b[0;32mreturn\u001b[0m \u001b[0m_ensure_2d\u001b[0m\u001b[0;34m(\u001b[0m\u001b[0mvalues\u001b[0m\u001b[0;34m)\u001b[0m\u001b[0;34m\u001b[0m\u001b[0;34m\u001b[0m\u001b[0m\n\u001b[0m\u001b[1;32m    561\u001b[0m \u001b[0;34m\u001b[0m\u001b[0m\n\u001b[1;32m    562\u001b[0m \u001b[0;34m\u001b[0m\u001b[0m\n",
            "\u001b[0;32m/usr/local/lib/python3.10/dist-packages/pandas/core/internals/construction.py\u001b[0m in \u001b[0;36m_ensure_2d\u001b[0;34m(values)\u001b[0m\n\u001b[1;32m    568\u001b[0m         \u001b[0mvalues\u001b[0m \u001b[0;34m=\u001b[0m \u001b[0mvalues\u001b[0m\u001b[0;34m.\u001b[0m\u001b[0mreshape\u001b[0m\u001b[0;34m(\u001b[0m\u001b[0;34m(\u001b[0m\u001b[0mvalues\u001b[0m\u001b[0;34m.\u001b[0m\u001b[0mshape\u001b[0m\u001b[0;34m[\u001b[0m\u001b[0;36m0\u001b[0m\u001b[0;34m]\u001b[0m\u001b[0;34m,\u001b[0m \u001b[0;36m1\u001b[0m\u001b[0;34m)\u001b[0m\u001b[0;34m)\u001b[0m\u001b[0;34m\u001b[0m\u001b[0;34m\u001b[0m\u001b[0m\n\u001b[1;32m    569\u001b[0m     \u001b[0;32melif\u001b[0m \u001b[0mvalues\u001b[0m\u001b[0;34m.\u001b[0m\u001b[0mndim\u001b[0m \u001b[0;34m!=\u001b[0m \u001b[0;36m2\u001b[0m\u001b[0;34m:\u001b[0m\u001b[0;34m\u001b[0m\u001b[0;34m\u001b[0m\u001b[0m\n\u001b[0;32m--> 570\u001b[0;31m         \u001b[0;32mraise\u001b[0m \u001b[0mValueError\u001b[0m\u001b[0;34m(\u001b[0m\u001b[0;34mf\"Must pass 2-d input. shape={values.shape}\"\u001b[0m\u001b[0;34m)\u001b[0m\u001b[0;34m\u001b[0m\u001b[0;34m\u001b[0m\u001b[0m\n\u001b[0m\u001b[1;32m    571\u001b[0m     \u001b[0;32mreturn\u001b[0m \u001b[0mvalues\u001b[0m\u001b[0;34m\u001b[0m\u001b[0;34m\u001b[0m\u001b[0m\n\u001b[1;32m    572\u001b[0m \u001b[0;34m\u001b[0m\u001b[0m\n",
            "\u001b[0;31mValueError\u001b[0m: Must pass 2-d input. shape=(1, 120, 40000)"
          ]
        }
      ]
    },
    {
      "cell_type": "code",
      "source": [],
      "metadata": {
        "id": "yqV_ur7XodVB"
      },
      "execution_count": null,
      "outputs": []
    },
    {
      "cell_type": "markdown",
      "source": [
        "# Model"
      ],
      "metadata": {
        "id": "z_pCYAHAuUdr"
      }
    },
    {
      "cell_type": "code",
      "source": [
        "for i in range(3):\n",
        "    plt.subplot(1, 3, i + 1)\n",
        "    plt.axis(True)\n",
        "\n",
        "    plt.imshow(X_train_all[i].reshape(200,200), cmap='gray')\n",
        "\n",
        "    plt.subplots_adjust(wspace=0.2, hspace=0.2)"
      ],
      "metadata": {
        "colab": {
          "base_uri": "https://localhost:8080/",
          "height": 211
        },
        "id": "f6DATvyRu4mS",
        "outputId": "6d43a562-d9e4-456a-c9fb-8f00cde11aae"
      },
      "execution_count": null,
      "outputs": [
        {
          "output_type": "display_data",
          "data": {
            "text/plain": [
              "<Figure size 640x480 with 3 Axes>"
            ],
            "image/png": "[encoded data removed]"
          },
          "metadata": {}
        }
      ]
    },
    {
      "cell_type": "code",
      "source": [
        "X_train = X_train.astype(\"float32\") / 255\n",
        "X_test = X_test.astype(\"float32\") / 255\n",
        "\n",
        "X_train"
      ],
      "metadata": {
        "id": "delB5imZvKau",
        "colab": {
          "base_uri": "https://localhost:8080/"
        },
        "outputId": "e6c24c60-72f4-4d25-bcb2-78021d04dc38"
      },
      "execution_count": null,
      "outputs": [
        {
          "output_type": "execute_result",
          "data": {
            "text/plain": [
              "array([[1., 1., 1., ..., 1., 1., 1.],\n",
              "       [1., 1., 1., ..., 1., 1., 1.],\n",
              "       [1., 1., 1., ..., 1., 1., 1.],\n",
              "       ...,\n",
              "       [1., 1., 1., ..., 1., 1., 1.],\n",
              "       [1., 1., 1., ..., 1., 1., 1.],\n",
              "       [1., 1., 1., ..., 1., 1., 1.]], dtype=float32)"
            ]
          },
          "metadata": {},
          "execution_count": 34
        }
      ]
    },
    {
      "cell_type": "code",
      "source": [
        "y_train = to_categorical(y_train)\n",
        "y_test  = to_categorical(y_test)\n",
        "\n",
        "y_train"
      ],
      "metadata": {
        "colab": {
          "base_uri": "https://localhost:8080/"
        },
        "id": "qw55PTlI01V3",
        "outputId": "514794aa-6b33-4d57-a98e-24babd3352ba"
      },
      "execution_count": null,
      "outputs": [
        {
          "output_type": "execute_result",
          "data": {
            "text/plain": [
              "array([[0., 1., 0., 0., 0.],\n",
              "       [0., 1., 0., 0., 0.],\n",
              "       [0., 1., 0., 0., 0.],\n",
              "       ...,\n",
              "       [0., 0., 0., 0., 1.],\n",
              "       [0., 0., 0., 0., 1.],\n",
              "       [0., 0., 0., 0., 1.]], dtype=float32)"
            ]
          },
          "metadata": {},
          "execution_count": 35
        }
      ]
    },
    {
      "cell_type": "code",
      "source": [
        "model = tf.keras.Sequential()\n",
        "\n",
        "model.add(Dense(128, activation='relu', input_shape=(X_train.shape[1],)))\n",
        "model.add(Dense(64, activation='relu'))\n",
        "model.add(Dense(32, activation='relu'))\n",
        "model.add(Dense(16, activation='relu'))\n",
        "model.add(Dense(5, activation='softmax'))\n",
        "\n",
        "model.summary()"
      ],
      "metadata": {
        "id": "hbZOT7xY1GdG",
        "colab": {
          "base_uri": "https://localhost:8080/"
        },
        "outputId": "e9fa40db-f61b-44ee-9249-78f4d7991a7b"
      },
      "execution_count": null,
      "outputs": [
        {
          "output_type": "stream",
          "name": "stdout",
          "text": [
            "Model: \"sequential_1\"\n",
            "_________________________________________________________________\n",
            " Layer (type)                Output Shape              Param #   \n",
            "=================================================================\n",
            " dense_5 (Dense)             (None, 128)               5120128   \n",
            "                                                                 \n",
            " dense_6 (Dense)             (None, 64)                8256      \n",
            "                                                                 \n",
            " dense_7 (Dense)             (None, 32)                2080      \n",
            "                                                                 \n",
            " dense_8 (Dense)             (None, 16)                528       \n",
            "                                                                 \n",
            " dense_9 (Dense)             (None, 5)                 85        \n",
            "                                                                 \n",
            "=================================================================\n",
            "Total params: 5131077 (19.57 MB)\n",
            "Trainable params: 5131077 (19.57 MB)\n",
            "Non-trainable params: 0 (0.00 Byte)\n",
            "_________________________________________________________________\n"
          ]
        }
      ]
    },
    {
      "cell_type": "code",
      "source": [
        "model.compile(optimizer='Adam',loss='categorical_crossentropy',metrics='accuracy')"
      ],
      "metadata": {
        "id": "uznqSPsq3pNp"
      },
      "execution_count": null,
      "outputs": []
    },
    {
      "cell_type": "code",
      "source": [
        "training_results = model.fit(X_train,\n",
        "                             y_train,\n",
        "                             epochs=10,\n",
        "                             batch_size=12,\n",
        "                             validation_split=0.2)"
      ],
      "metadata": {
        "colab": {
          "base_uri": "https://localhost:8080/"
        },
        "id": "mrtjO-Lj3wGs",
        "outputId": "40167bbd-e981-43ec-db9c-07347f69560f"
      },
      "execution_count": null,
      "outputs": [
        {
          "output_type": "stream",
          "name": "stdout",
          "text": [
            "Epoch 1/10\n",
            "950/950 [==============================] - 57s 59ms/step - loss: 0.3418 - accuracy: 0.8898 - val_loss: 0.1993 - val_accuracy: 0.9354\n",
            "Epoch 2/10\n",
            "950/950 [==============================] - 54s 57ms/step - loss: 0.0437 - accuracy: 0.9870 - val_loss: 0.5256 - val_accuracy: 0.7729\n",
            "Epoch 3/10\n",
            "950/950 [==============================] - 55s 58ms/step - loss: 0.0593 - accuracy: 0.9830 - val_loss: 0.1149 - val_accuracy: 0.9603\n",
            "Epoch 4/10\n",
            "950/950 [==============================] - 54s 57ms/step - loss: 0.0307 - accuracy: 0.9911 - val_loss: 0.1681 - val_accuracy: 0.9263\n",
            "Epoch 5/10\n",
            "950/950 [==============================] - 54s 57ms/step - loss: 0.0575 - accuracy: 0.9851 - val_loss: 0.0805 - val_accuracy: 0.9737\n",
            "Epoch 6/10\n",
            "950/950 [==============================] - 53s 56ms/step - loss: 0.0271 - accuracy: 0.9933 - val_loss: 0.0045 - val_accuracy: 1.0000\n",
            "Epoch 7/10\n",
            "950/950 [==============================] - 53s 56ms/step - loss: 0.0169 - accuracy: 0.9947 - val_loss: 0.0024 - val_accuracy: 0.9993\n",
            "Epoch 8/10\n",
            "950/950 [==============================] - 53s 56ms/step - loss: 0.0261 - accuracy: 0.9923 - val_loss: 0.0229 - val_accuracy: 0.9926\n",
            "Epoch 9/10\n",
            "950/950 [==============================] - 55s 57ms/step - loss: 0.0189 - accuracy: 0.9943 - val_loss: 9.4338e-05 - val_accuracy: 1.0000\n",
            "Epoch 10/10\n",
            "950/950 [==============================] - 53s 56ms/step - loss: 0.0328 - accuracy: 0.9903 - val_loss: 1.7551e-07 - val_accuracy: 1.0000\n"
          ]
        }
      ]
    },
    {
      "cell_type": "code",
      "source": [
        "model.evaluate(X_test,y_test,batch_size=12)"
      ],
      "metadata": {
        "id": "nCv0Ew6c38fr",
        "colab": {
          "base_uri": "https://localhost:8080/"
        },
        "outputId": "ae07db1d-961e-43ed-c00c-49ccbbb46397"
      },
      "execution_count": null,
      "outputs": [
        {
          "output_type": "stream",
          "name": "stdout",
          "text": [
            "63/63 [==============================] - 0s 6ms/step - loss: 0.0029 - accuracy: 1.0000\n"
          ]
        },
        {
          "output_type": "execute_result",
          "data": {
            "text/plain": [
              "[0.0028853414114564657, 1.0]"
            ]
          },
          "metadata": {},
          "execution_count": 40
        }
      ]
    },
    {
      "cell_type": "markdown",
      "source": [
        "# Plotting"
      ],
      "metadata": {
        "id": "hI-fbU_s7tZk"
      }
    },
    {
      "cell_type": "code",
      "source": [
        "def plot_results(metrics, title=None, ylabel=None, ylim=None, metric_name=None, color=None):\n",
        "\n",
        "    fig, ax = plt.subplots()\n",
        "\n",
        "    if not (isinstance(metric_name, list) or isinstance(metric_name, tuple)):\n",
        "        metrics = [metrics,]\n",
        "        metric_name = [metric_name,]\n",
        "\n",
        "    for idx, metric in enumerate(metrics):\n",
        "        ax.plot(metric, color=color[idx])\n",
        "\n",
        "    plt.xlabel(\"Epoch\")\n",
        "    plt.ylabel(ylabel)\n",
        "    plt.title(title)\n",
        "    plt.xlim([0, 20])\n",
        "    plt.ylim(ylim)\n",
        "    # Tailor x-axis tick marks\n",
        "    ax.xaxis.set_major_locator(MultipleLocator(5))\n",
        "    ax.xaxis.set_major_formatter(FormatStrFormatter('%d'))\n",
        "    ax.xaxis.set_minor_locator(MultipleLocator(1))\n",
        "    plt.grid(True)\n",
        "    plt.legend(metric_name)\n",
        "    plt.show()\n",
        "    plt.close()"
      ],
      "metadata": {
        "id": "JEZNhhjE7u0C"
      },
      "execution_count": null,
      "outputs": []
    },
    {
      "cell_type": "code",
      "source": [
        "train_loss = training_results.history[\"loss\"]\n",
        "train_acc  = training_results.history[\"accuracy\"]\n",
        "valid_loss = training_results.history[\"val_loss\"]\n",
        "valid_acc  = training_results.history[\"val_accuracy\"]\n",
        "\n",
        "plot_results([ train_loss, valid_loss ],\n",
        "            ylabel=\"Loss\",\n",
        "            ylim = [0.0, 0.5],\n",
        "            metric_name=[\"Training Loss\", \"Validation Loss\"],\n",
        "            color=[\"g\", \"b\"]);\n",
        "\n",
        "plot_results([ train_acc, valid_acc ],\n",
        "            ylabel=\"Accuracy\",\n",
        "            ylim = [0.9, 1.0],\n",
        "            metric_name=[\"Training Accuracy\", \"Validation Accuracy\"],\n",
        "            color=[\"g\", \"b\"])"
      ],
      "metadata": {
        "colab": {
          "base_uri": "https://localhost:8080/",
          "height": 903
        },
        "id": "akI00fMO71Fa",
        "outputId": "f6a2a857-9979-4ea4-bf36-49d4da99ffe7"
      },
      "execution_count": null,
      "outputs": [
        {
          "output_type": "display_data",
          "data": {
            "text/plain": [
              "<Figure size 640x480 with 1 Axes>"
            ],
            "image/png": "[encoded data removed]"
          },
          "metadata": {}
        },
        {
          "output_type": "display_data",
          "data": {
            "text/plain": [
              "<Figure size 640x480 with 1 Axes>"
            ],
            "image/png": "[encoded data removed]"
          },
          "metadata": {}
        }
      ]
    },
    {
      "cell_type": "markdown",
      "source": [
        "# Prediction"
      ],
      "metadata": {
        "id": "GUq3wyEyVREq"
      }
    },
    {
      "cell_type": "code",
      "source": [
        "predictions = model.predict(X_test)\n",
        "index = 0 # up to 9999\n",
        "print('Ground truth for test digit: ',y_test[index])\n",
        "print('\\n');\n",
        "print('Predictions for each class:\\n')\n",
        "for i in range(5):\n",
        "    print('digit:', i, ' probability: ', predictions[index][i])"
      ],
      "metadata": {
        "colab": {
          "base_uri": "https://localhost:8080/"
        },
        "id": "mJlGxbVzVTwb",
        "outputId": "7c79c48e-d570-4f45-f087-fbc4a2666629"
      },
      "execution_count": null,
      "outputs": [
        {
          "output_type": "stream",
          "name": "stdout",
          "text": [
            "24/24 [==============================] - 0s 11ms/step\n",
            "Ground truth for test digit:  [0. 0. 0. 1. 0.]\n",
            "\n",
            "\n",
            "Predictions for each class:\n",
            "\n",
            "digit: 0  probability:  2.6927231e-11\n",
            "digit: 1  probability:  3.68899e-27\n",
            "digit: 2  probability:  7.811504e-18\n",
            "digit: 3  probability:  0.99999994\n",
            "digit: 4  probability:  3.028193e-25\n"
          ]
        }
      ]
    },
    {
      "cell_type": "code",
      "source": [
        "predictions = model.predict(X_test)\n",
        "\n",
        "predicted_labels = [np.argmax(i) for i in predictions]"
      ],
      "metadata": {
        "colab": {
          "base_uri": "https://localhost:8080/"
        },
        "id": "xzWJXClMVY0B",
        "outputId": "a09e71bf-7f18-4849-869a-5d45f4bf0669"
      },
      "execution_count": null,
      "outputs": [
        {
          "output_type": "stream",
          "name": "stdout",
          "text": [
            "24/24 [==============================] - 0s 10ms/step\n"
          ]
        }
      ]
    },
    {
      "cell_type": "code",
      "source": [
        "y_test_integer_labels = tf.argmax(y_test, axis=1)\n",
        "\n",
        "# Generate a confusion matrix for the test dataset.\n",
        "cm = tf.math.confusion_matrix(labels=y_test_integer_labels, predictions=predicted_labels)\n",
        "\n",
        "# Plot the confusion matrix as a heatmap.\n",
        "plt.figure(figsize=[15, 8])\n",
        "import seaborn as sn\n",
        "sn.heatmap(cm, annot=True, fmt='d', annot_kws={\"size\": 14})\n",
        "plt.xlabel('Predicted')\n",
        "plt.ylabel('Truth')\n",
        "plt.show()"
      ],
      "metadata": {
        "colab": {
          "base_uri": "https://localhost:8080/",
          "height": 706
        },
        "id": "atWE_huFV_Sx",
        "outputId": "8e48d778-5194-4e4d-ec22-0402d1c0bfb7"
      },
      "execution_count": null,
      "outputs": [
        {
          "output_type": "display_data",
          "data": {
            "text/plain": [
              "<Figure size 1500x800 with 2 Axes>"
            ],
            "image/png": "[encoded data removed]"
          },
          "metadata": {}
        }
      ]
    },
    {
      "cell_type": "code",
      "source": [
        "# For one member\n",
        "\n",
        "plt.imshow(X_train_all[0].reshape(200,200))\n",
        "print(y_train_all[0])\n",
        "\n",
        "a=X_train_all[0]\n",
        "a=a.astype('float32')/255"
      ],
      "metadata": {
        "colab": {
          "base_uri": "https://localhost:8080/",
          "height": 451
        },
        "id": "h39W7GgNWELx",
        "outputId": "7f9e26e8-10b4-4bdc-877c-91598305d96f"
      },
      "execution_count": null,
      "outputs": [
        {
          "output_type": "stream",
          "name": "stdout",
          "text": [
            "1\n"
          ]
        },
        {
          "output_type": "display_data",
          "data": {
            "text/plain": [
              "<Figure size 640x480 with 1 Axes>"
            ],
            "image/png": "[encoded data removed]"
          },
          "metadata": {}
        }
      ]
    },
    {
      "cell_type": "code",
      "source": [
        "# It shows that is 6\n",
        "\n",
        "model.predict(a)"
      ],
      "metadata": {
        "colab": {
          "base_uri": "https://localhost:8080/",
          "height": 668
        },
        "id": "3Kza9xi-WQ4w",
        "outputId": "904c6ec7-6229-4f52-b0b0-6dad278e79d2"
      },
      "execution_count": null,
      "outputs": [
        {
          "output_type": "error",
          "ename": "TypeError",
          "evalue": "in user code:\n\n    File \"/usr/local/lib/python3.10/dist-packages/keras/src/engine/training.py\", line 2440, in predict_function  *\n        return step_function(self, iterator)\n    File \"/usr/local/lib/python3.10/dist-packages/keras/src/engine/training.py\", line 2425, in step_function  **\n        outputs = model.distribute_strategy.run(run_step, args=(data,))\n    File \"/usr/local/lib/python3.10/dist-packages/keras/src/engine/training.py\", line 2413, in run_step  **\n        outputs = model.predict_step(data)\n    File \"/usr/local/lib/python3.10/dist-packages/keras/src/engine/training.py\", line 2381, in predict_step\n        return self(x, training=False)\n    File \"/usr/local/lib/python3.10/dist-packages/keras/src/utils/traceback_utils.py\", line 70, in error_handler\n        raise e.with_traceback(filtered_tb) from None\n    File \"/usr/local/lib/python3.10/dist-packages/keras/src/backend.py\", line 5442, in softmax\n        if x.shape.rank <= 1:\n\n    TypeError: Exception encountered when calling layer 'dense_9' (type Dense).\n    \n    '<=' not supported between instances of 'NoneType' and 'int'\n    \n    Call arguments received by layer 'dense_9' (type Dense):\n      • inputs=tf.Tensor(shape=<unknown>, dtype=float32)\n",
          "traceback": [
            "\u001b[0;31m---------------------------------------------------------------------------\u001b[0m",
            "\u001b[0;31mTypeError\u001b[0m                                 Traceback (most recent call last)",
            "\u001b[0;32m<ipython-input-47-c70a801610d8>\u001b[0m in \u001b[0;36m<cell line: 3>\u001b[0;34m()\u001b[0m\n\u001b[1;32m      1\u001b[0m \u001b[0;31m# It shows that is 6\u001b[0m\u001b[0;34m\u001b[0m\u001b[0;34m\u001b[0m\u001b[0m\n\u001b[1;32m      2\u001b[0m \u001b[0;34m\u001b[0m\u001b[0m\n\u001b[0;32m----> 3\u001b[0;31m \u001b[0mmodel\u001b[0m\u001b[0;34m.\u001b[0m\u001b[0mpredict\u001b[0m\u001b[0;34m(\u001b[0m\u001b[0ma\u001b[0m\u001b[0;34m)\u001b[0m\u001b[0;34m\u001b[0m\u001b[0;34m\u001b[0m\u001b[0m\n\u001b[0m",
            "\u001b[0;32m/usr/local/lib/python3.10/dist-packages/keras/src/utils/traceback_utils.py\u001b[0m in \u001b[0;36merror_handler\u001b[0;34m(*args, **kwargs)\u001b[0m\n\u001b[1;32m     68\u001b[0m             \u001b[0;31m# To get the full stack trace, call:\u001b[0m\u001b[0;34m\u001b[0m\u001b[0;34m\u001b[0m\u001b[0m\n\u001b[1;32m     69\u001b[0m             \u001b[0;31m# `tf.debugging.disable_traceback_filtering()`\u001b[0m\u001b[0;34m\u001b[0m\u001b[0;34m\u001b[0m\u001b[0m\n\u001b[0;32m---> 70\u001b[0;31m             \u001b[0;32mraise\u001b[0m \u001b[0me\u001b[0m\u001b[0;34m.\u001b[0m\u001b[0mwith_traceback\u001b[0m\u001b[0;34m(\u001b[0m\u001b[0mfiltered_tb\u001b[0m\u001b[0;34m)\u001b[0m \u001b[0;32mfrom\u001b[0m \u001b[0;32mNone\u001b[0m\u001b[0;34m\u001b[0m\u001b[0;34m\u001b[0m\u001b[0m\n\u001b[0m\u001b[1;32m     71\u001b[0m         \u001b[0;32mfinally\u001b[0m\u001b[0;34m:\u001b[0m\u001b[0;34m\u001b[0m\u001b[0;34m\u001b[0m\u001b[0m\n\u001b[1;32m     72\u001b[0m             \u001b[0;32mdel\u001b[0m \u001b[0mfiltered_tb\u001b[0m\u001b[0;34m\u001b[0m\u001b[0;34m\u001b[0m\u001b[0m\n",
            "\u001b[0;32m/usr/local/lib/python3.10/dist-packages/keras/src/engine/training.py\u001b[0m in \u001b[0;36mtf__predict_function\u001b[0;34m(iterator)\u001b[0m\n\u001b[1;32m     13\u001b[0m                 \u001b[0;32mtry\u001b[0m\u001b[0;34m:\u001b[0m\u001b[0;34m\u001b[0m\u001b[0;34m\u001b[0m\u001b[0m\n\u001b[1;32m     14\u001b[0m                     \u001b[0mdo_return\u001b[0m \u001b[0;34m=\u001b[0m \u001b[0;32mTrue\u001b[0m\u001b[0;34m\u001b[0m\u001b[0;34m\u001b[0m\u001b[0m\n\u001b[0;32m---> 15\u001b[0;31m                     \u001b[0mretval_\u001b[0m \u001b[0;34m=\u001b[0m \u001b[0mag__\u001b[0m\u001b[0;34m.\u001b[0m\u001b[0mconverted_call\u001b[0m\u001b[0;34m(\u001b[0m\u001b[0mag__\u001b[0m\u001b[0;34m.\u001b[0m\u001b[0mld\u001b[0m\u001b[0;34m(\u001b[0m\u001b[0mstep_function\u001b[0m\u001b[0;34m)\u001b[0m\u001b[0;34m,\u001b[0m \u001b[0;34m(\u001b[0m\u001b[0mag__\u001b[0m\u001b[0;34m.\u001b[0m\u001b[0mld\u001b[0m\u001b[0;34m(\u001b[0m\u001b[0mself\u001b[0m\u001b[0;34m)\u001b[0m\u001b[0;34m,\u001b[0m \u001b[0mag__\u001b[0m\u001b[0;34m.\u001b[0m\u001b[0mld\u001b[0m\u001b[0;34m(\u001b[0m\u001b[0miterator\u001b[0m\u001b[0;34m)\u001b[0m\u001b[0;34m)\u001b[0m\u001b[0;34m,\u001b[0m \u001b[0;32mNone\u001b[0m\u001b[0;34m,\u001b[0m \u001b[0mfscope\u001b[0m\u001b[0;34m)\u001b[0m\u001b[0;34m\u001b[0m\u001b[0;34m\u001b[0m\u001b[0m\n\u001b[0m\u001b[1;32m     16\u001b[0m                 \u001b[0;32mexcept\u001b[0m\u001b[0;34m:\u001b[0m\u001b[0;34m\u001b[0m\u001b[0;34m\u001b[0m\u001b[0m\n\u001b[1;32m     17\u001b[0m                     \u001b[0mdo_return\u001b[0m \u001b[0;34m=\u001b[0m \u001b[0;32mFalse\u001b[0m\u001b[0;34m\u001b[0m\u001b[0;34m\u001b[0m\u001b[0m\n",
            "\u001b[0;31mTypeError\u001b[0m: in user code:\n\n    File \"/usr/local/lib/python3.10/dist-packages/keras/src/engine/training.py\", line 2440, in predict_function  *\n        return step_function(self, iterator)\n    File \"/usr/local/lib/python3.10/dist-packages/keras/src/engine/training.py\", line 2425, in step_function  **\n        outputs = model.distribute_strategy.run(run_step, args=(data,))\n    File \"/usr/local/lib/python3.10/dist-packages/keras/src/engine/training.py\", line 2413, in run_step  **\n        outputs = model.predict_step(data)\n    File \"/usr/local/lib/python3.10/dist-packages/keras/src/engine/training.py\", line 2381, in predict_step\n        return self(x, training=False)\n    File \"/usr/local/lib/python3.10/dist-packages/keras/src/utils/traceback_utils.py\", line 70, in error_handler\n        raise e.with_traceback(filtered_tb) from None\n    File \"/usr/local/lib/python3.10/dist-packages/keras/src/backend.py\", line 5442, in softmax\n        if x.shape.rank <= 1:\n\n    TypeError: Exception encountered when calling layer 'dense_9' (type Dense).\n    \n    '<=' not supported between instances of 'NoneType' and 'int'\n    \n    Call arguments received by layer 'dense_9' (type Dense):\n      • inputs=tf.Tensor(shape=<unknown>, dtype=float32)\n"
          ]
        }
      ]
    },
    {
      "cell_type": "code",
      "source": [],
      "metadata": {
        "id": "jOXMvkodWmon"
      },
      "execution_count": null,
      "outputs": []
    }
  ]
}