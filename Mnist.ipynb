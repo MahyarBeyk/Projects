{
  "nbformat": 4,
  "nbformat_minor": 0,
  "metadata": {
    "colab": {
      "provenance": []
    },
    "kernelspec": {
      "name": "python3",
      "display_name": "Python 3"
    },
    "language_info": {
      "name": "python"
    }
  },
  "cells": [
    {
      "cell_type": "code",
      "execution_count": null,
      "metadata": {
        "id": "Rjcsti-D_wkP"
      },
      "outputs": [],
      "source": [
        "import random\n",
        "import matplotlib.pyplot as plt\n",
        "import matplotlib\n",
        "import numpy as np\n",
        "import tensorflow as tf\n",
        "\n",
        "from tensorflow.keras import layers\n",
        "from tensorflow.keras import Sequential\n",
        "from tensorflow.keras.layers import Dense, Dropout\n",
        "from tensorflow.keras.datasets import mnist\n",
        "from tensorflow.keras.datasets import fashion_mnist\n",
        "from tensorflow.keras.utils import to_categorical\n",
        "\n",
        "from matplotlib.ticker import (MultipleLocator, FormatStrFormatter)\n",
        "\n",
        "plt.rcParams['axes.titlesize'] = 16\n",
        "plt.rcParams['axes.labelsize'] = 14\n",
        "plt.rcParams['image.cmap'] = 'gray'"
      ]
    },
    {
      "cell_type": "code",
      "source": [
        "SEED_VALUE = 42\n",
        "\n",
        "# Fix seed to make training deterministic.\n",
        "random.seed(SEED_VALUE)\n",
        "np.random.seed(SEED_VALUE)\n",
        "tf.random.set_seed(SEED_VALUE)"
      ],
      "metadata": {
        "id": "XSw27Gdq_xj2"
      },
      "execution_count": null,
      "outputs": []
    },
    {
      "cell_type": "code",
      "source": [
        "(X_train_all, y_train_all), (X_test, y_test) = mnist.load_data()"
      ],
      "metadata": {
        "id": "33AIX0FyZaMm",
        "colab": {
          "base_uri": "https://localhost:8080/"
        },
        "outputId": "330ff5cb-858a-42cd-8ac6-ebbe22354add"
      },
      "execution_count": null,
      "outputs": [
        {
          "output_type": "stream",
          "name": "stdout",
          "text": [
            "Downloading data from https://storage.googleapis.com/tensorflow/tf-keras-datasets/mnist.npz\n",
            "11490434/11490434 [==============================] - 0s 0us/step\n"
          ]
        }
      ]
    },
    {
      "cell_type": "code",
      "source": [
        "X_valid = X_train_all[:10000]\n",
        "X_train = X_train_all[10000:]\n",
        "\n",
        "y_valid = y_train_all[:10000]\n",
        "y_train = y_train_all[10000:]\n",
        "\n",
        "print(X_train.shape)\n",
        "print(X_valid.shape)\n",
        "print(X_test.shape)"
      ],
      "metadata": {
        "colab": {
          "base_uri": "https://localhost:8080/"
        },
        "id": "DuxgjFte_4Kj",
        "outputId": "c13982b3-3e4b-4c42-98d2-18da7dbfa555"
      },
      "execution_count": null,
      "outputs": [
        {
          "output_type": "stream",
          "name": "stdout",
          "text": [
            "(50000, 28, 28)\n",
            "(10000, 28, 28)\n",
            "(10000, 28, 28)\n"
          ]
        }
      ]
    },
    {
      "cell_type": "code",
      "source": [
        "type(X_train)"
      ],
      "metadata": {
        "colab": {
          "base_uri": "https://localhost:8080/"
        },
        "id": "JysMjAxITaXI",
        "outputId": "8ec75fb0-7cb2-4e51-fa76-3633feef4c73"
      },
      "execution_count": null,
      "outputs": [
        {
          "output_type": "execute_result",
          "data": {
            "text/plain": [
              "numpy.ndarray"
            ]
          },
          "metadata": {},
          "execution_count": 5
        }
      ]
    },
    {
      "cell_type": "code",
      "source": [
        "print(y_train.shape)"
      ],
      "metadata": {
        "colab": {
          "base_uri": "https://localhost:8080/"
        },
        "id": "qNa9XkOEhlNd",
        "outputId": "981aa7a1-6d25-4de9-d2b0-c851196578d8"
      },
      "execution_count": null,
      "outputs": [
        {
          "output_type": "stream",
          "name": "stdout",
          "text": [
            "(50000,)\n"
          ]
        }
      ]
    },
    {
      "cell_type": "code",
      "source": [
        "for i in range(3):\n",
        "    plt.subplot(1, 3, i + 1)\n",
        "    plt.axis(True)\n",
        "\n",
        "    plt.imshow(X_train[i], cmap='gray')\n",
        "\n",
        "    plt.subplots_adjust(wspace=0.2, hspace=0.2)"
      ],
      "metadata": {
        "colab": {
          "base_uri": "https://localhost:8080/",
          "height": 209
        },
        "id": "UVnLcPRb_7Qf",
        "outputId": "e4db1a0a-a458-4d03-cd4a-f3be02a7dfb5"
      },
      "execution_count": null,
      "outputs": [
        {
          "output_type": "display_data",
          "data": {
            "text/plain": [
              "<Figure size 640x480 with 3 Axes>"
            ],
            "image/png": "[encoded data removed]"
          },
          "metadata": {}
        }
      ]
    },
    {
      "cell_type": "code",
      "source": [
        "plt.imshow(X_train[0])"
      ],
      "metadata": {
        "colab": {
          "base_uri": "https://localhost:8080/",
          "height": 447
        },
        "id": "JEHJYMa0aee-",
        "outputId": "15f5c1d8-6d25-4d46-bb4e-575c75fac75a"
      },
      "execution_count": null,
      "outputs": [
        {
          "output_type": "execute_result",
          "data": {
            "text/plain": [
              "<matplotlib.image.AxesImage at 0x7fe1cbc6b670>"
            ]
          },
          "metadata": {},
          "execution_count": 41
        },
        {
          "output_type": "display_data",
          "data": {
            "text/plain": [
              "<Figure size 640x480 with 1 Axes>"
            ],
            "image/png": "[encoded data removed]"
          },
          "metadata": {}
        }
      ]
    },
    {
      "cell_type": "code",
      "source": [
        "X_train[0]"
      ],
      "metadata": {
        "colab": {
          "base_uri": "https://localhost:8080/",
          "height": 69
        },
        "id": "8XPUm_YSasF3",
        "outputId": "cd626728-1423-4466-a738-999930ed915b"
      },
      "execution_count": null,
      "outputs": [
        {
          "output_type": "execute_result",
          "data": {
            "text/plain": [
              "array([[  0,   0,   0,   0,   0,   0,   0,   0,   0,   0,   0,   0,   0,\n",
              "          0,   0,   0,   0,   0,   0,   0,   0,   0,   0,   0,   0,   0,\n",
              "          0,   0],\n",
              "       [  0,   0,   0,   0,   0,   0,   0,   0,   0,   0,   0,   0,   0,\n",
              "          0,   0,   0,   0,   0,   0,   0,   0,   0,   0,   0,   0,   0,\n",
              "          0,   0],\n",
              "       [  0,   0,   0,   0,   0,   0,   0,   0,   0,   0,   0,   0,   0,\n",
              "          0,   0,   0,   0,   0,   0,   0,   0,   0,   0,   0,   0,   0,\n",
              "          0,   0],\n",
              "       [  0,   0,   0,   0,   0,   0,   0,   0,   0,   0,   0,   0,   0,\n",
              "          0,   0,   0,   0,   0,   0,   0,   0,   0,   0,   0,   0,   0,\n",
              "          0,   0],\n",
              "       [  0,   0,   0,   0,   0,   0,   0,   0,   0,   0,   0,   0,   0,\n",
              "          0,   0,   0,   0,   0,   0,   0,   0,   0,   0,   0,   0,   0,\n",
              "          0,   0],\n",
              "       [  0,   0,   0,   0,   0,   0,   0,   0,   0,  29, 150, 195, 254,\n",
              "        255, 254, 176, 193, 150,  96,   0,   0,   0,   0,   0,   0,   0,\n",
              "          0,   0],\n",
              "       [  0,   0,   0,   0,   0,   0,   0,  48, 166, 224, 253, 253, 234,\n",
              "        196, 253, 253, 253, 253, 233,   0,   0,   0,   0,   0,   0,   0,\n",
              "          0,   0],\n",
              "       [  0,   0,   0,   0,   0,  93, 244, 249, 253, 187,  46,  10,   8,\n",
              "          4,  10, 194, 253, 253, 233,   0,   0,   0,   0,   0,   0,   0,\n",
              "          0,   0],\n",
              "       [  0,   0,   0,   0,   0, 107, 253, 253, 230,  48,   0,   0,   0,\n",
              "          0,   0, 192, 253, 253, 156,   0,   0,   0,   0,   0,   0,   0,\n",
              "          0,   0],\n",
              "       [  0,   0,   0,   0,   0,   3,  20,  20,  15,   0,   0,   0,   0,\n",
              "          0,  43, 224, 253, 245,  74,   0,   0,   0,   0,   0,   0,   0,\n",
              "          0,   0],\n",
              "       [  0,   0,   0,   0,   0,   0,   0,   0,   0,   0,   0,   0,   0,\n",
              "          0, 249, 253, 245, 126,   0,   0,   0,   0,   0,   0,   0,   0,\n",
              "          0,   0],\n",
              "       [  0,   0,   0,   0,   0,   0,   0,   0,   0,   0,   0,  14, 101,\n",
              "        223, 253, 248, 124,   0,   0,   0,   0,   0,   0,   0,   0,   0,\n",
              "          0,   0],\n",
              "       [  0,   0,   0,   0,   0,   0,   0,   0,   0,  11, 166, 239, 253,\n",
              "        253, 253, 187,  30,   0,   0,   0,   0,   0,   0,   0,   0,   0,\n",
              "          0,   0],\n",
              "       [  0,   0,   0,   0,   0,   0,   0,   0,   0,  16, 248, 250, 253,\n",
              "        253, 253, 253, 232, 213, 111,   2,   0,   0,   0,   0,   0,   0,\n",
              "          0,   0],\n",
              "       [  0,   0,   0,   0,   0,   0,   0,   0,   0,   0,   0,  43,  98,\n",
              "         98, 208, 253, 253, 253, 253, 187,  22,   0,   0,   0,   0,   0,\n",
              "          0,   0],\n",
              "       [  0,   0,   0,   0,   0,   0,   0,   0,   0,   0,   0,   0,   0,\n",
              "          0,   9,  51, 119, 253, 253, 253,  76,   0,   0,   0,   0,   0,\n",
              "          0,   0],\n",
              "       [  0,   0,   0,   0,   0,   0,   0,   0,   0,   0,   0,   0,   0,\n",
              "          0,   0,   0,   1, 183, 253, 253, 139,   0,   0,   0,   0,   0,\n",
              "          0,   0],\n",
              "       [  0,   0,   0,   0,   0,   0,   0,   0,   0,   0,   0,   0,   0,\n",
              "          0,   0,   0,   0, 182, 253, 253, 104,   0,   0,   0,   0,   0,\n",
              "          0,   0],\n",
              "       [  0,   0,   0,   0,   0,   0,   0,   0,   0,   0,   0,   0,   0,\n",
              "          0,   0,   0,  85, 249, 253, 253,  36,   0,   0,   0,   0,   0,\n",
              "          0,   0],\n",
              "       [  0,   0,   0,   0,   0,   0,   0,   0,   0,   0,   0,   0,   0,\n",
              "          0,   0,  60, 214, 253, 253, 173,  11,   0,   0,   0,   0,   0,\n",
              "          0,   0],\n",
              "       [  0,   0,   0,   0,   0,   0,   0,   0,   0,   0,   0,   0,   0,\n",
              "          0,  98, 247, 253, 253, 226,   9,   0,   0,   0,   0,   0,   0,\n",
              "          0,   0],\n",
              "       [  0,   0,   0,   0,   0,   0,   0,   0,   0,   0,   0,   0,  42,\n",
              "        150, 252, 253, 253, 233,  53,   0,   0,   0,   0,   0,   0,   0,\n",
              "          0,   0],\n",
              "       [  0,   0,   0,   0,   0,   0,  42, 115,  42,  60, 115, 159, 240,\n",
              "        253, 253, 250, 175,  25,   0,   0,   0,   0,   0,   0,   0,   0,\n",
              "          0,   0],\n",
              "       [  0,   0,   0,   0,   0,   0, 187, 253, 253, 253, 253, 253, 253,\n",
              "        253, 197,  86,   0,   0,   0,   0,   0,   0,   0,   0,   0,   0,\n",
              "          0,   0],\n",
              "       [  0,   0,   0,   0,   0,   0, 103, 253, 253, 253, 253, 253, 232,\n",
              "         67,   1,   0,   0,   0,   0,   0,   0,   0,   0,   0,   0,   0,\n",
              "          0,   0],\n",
              "       [  0,   0,   0,   0,   0,   0,   0,   0,   0,   0,   0,   0,   0,\n",
              "          0,   0,   0,   0,   0,   0,   0,   0,   0,   0,   0,   0,   0,\n",
              "          0,   0],\n",
              "       [  0,   0,   0,   0,   0,   0,   0,   0,   0,   0,   0,   0,   0,\n",
              "          0,   0,   0,   0,   0,   0,   0,   0,   0,   0,   0,   0,   0,\n",
              "          0,   0],\n",
              "       [  0,   0,   0,   0,   0,   0,   0,   0,   0,   0,   0,   0,   0,\n",
              "          0,   0,   0,   0,   0,   0,   0,   0,   0,   0,   0,   0,   0,\n",
              "          0,   0]], dtype=uint8)"
            ],
            "text/html": [
              "<style>\n",
              "      .ndarray_repr .ndarray_raw_data {\n",
              "        display: none;\n",
              "      }\n",
              "      .ndarray_repr.show_array .ndarray_raw_data {\n",
              "        display: block;\n",
              "      }\n",
              "      .ndarray_repr.show_array .ndarray_image_preview {\n",
              "        display: none;\n",
              "      }\n",
              "      </style>\n",
              "      <div id=\"id-fd38e06d-d32b-42d6-a02c-4a5aea165f6a\" class=\"ndarray_repr\"><pre>ndarray (28, 28) <button style=\"padding: 0 2px;\">show data</button></pre><img src=\"data:image/png;base64,iVBORw0KGgoAAAANSUhEUgAAABwAAAAcCAAAAABXZoBIAAAA9ElEQVR4nM3Or0sDcRjH8c/pgrfBVBjCgibThiKIyTWbWF1bORhGwxARxH/AbtW0JoIGwzXRYhJhtuFY2q1ocLgbe3sGReTuuWbwkx6+r+/zQ/pncX6q+YOldSe6nG3dn8U/rTQ70L8FCGJUewvxl7NTmezNb8xIkvKugr1HSeMP6SrWOVkoTEuSyh0Gm2n3hQyObMnXnxkempRrvgD+gokzwxFAr7U7YXHZ8x4A/Dl7rbu6D2yl3etcw/F3nZgfRVI7rXM7hMUUqzzBec427x26rkmlkzEEa4nnRqnSOH2F0UUx0ePzlbuqMXAHgN6GY9if5xP8dmtHFfwjuQAAAABJRU5ErkJggg==\" class=\"ndarray_image_preview\" /><pre class=\"ndarray_raw_data\">array([[  0,   0,   0,   0,   0,   0,   0,   0,   0,   0,   0,   0,   0,\n",
              "          0,   0,   0,   0,   0,   0,   0,   0,   0,   0,   0,   0,   0,\n",
              "          0,   0],\n",
              "       [  0,   0,   0,   0,   0,   0,   0,   0,   0,   0,   0,   0,   0,\n",
              "          0,   0,   0,   0,   0,   0,   0,   0,   0,   0,   0,   0,   0,\n",
              "          0,   0],\n",
              "       [  0,   0,   0,   0,   0,   0,   0,   0,   0,   0,   0,   0,   0,\n",
              "          0,   0,   0,   0,   0,   0,   0,   0,   0,   0,   0,   0,   0,\n",
              "          0,   0],\n",
              "       [  0,   0,   0,   0,   0,   0,   0,   0,   0,   0,   0,   0,   0,\n",
              "          0,   0,   0,   0,   0,   0,   0,   0,   0,   0,   0,   0,   0,\n",
              "          0,   0],\n",
              "       [  0,   0,   0,   0,   0,   0,   0,   0,   0,   0,   0,   0,   0,\n",
              "          0,   0,   0,   0,   0,   0,   0,   0,   0,   0,   0,   0,   0,\n",
              "          0,   0],\n",
              "       [  0,   0,   0,   0,   0,   0,   0,   0,   0,  29, 150, 195, 254,\n",
              "        255, 254, 176, 193, 150,  96,   0,   0,   0,   0,   0,   0,   0,\n",
              "          0,   0],\n",
              "       [  0,   0,   0,   0,   0,   0,   0,  48, 166, 224, 253, 253, 234,\n",
              "        196, 253, 253, 253, 253, 233,   0,   0,   0,   0,   0,   0,   0,\n",
              "          0,   0],\n",
              "       [  0,   0,   0,   0,   0,  93, 244, 249, 253, 187,  46,  10,   8,\n",
              "          4,  10, 194, 253, 253, 233,   0,   0,   0,   0,   0,   0,   0,\n",
              "          0,   0],\n",
              "       [  0,   0,   0,   0,   0, 107, 253, 253, 230,  48,   0,   0,   0,\n",
              "          0,   0, 192, 253, 253, 156,   0,   0,   0,   0,   0,   0,   0,\n",
              "          0,   0],\n",
              "       [  0,   0,   0,   0,   0,   3,  20,  20,  15,   0,   0,   0,   0,\n",
              "          0,  43, 224, 253, 245,  74,   0,   0,   0,   0,   0,   0,   0,\n",
              "          0,   0],\n",
              "       [  0,   0,   0,   0,   0,   0,   0,   0,   0,   0,   0,   0,   0,\n",
              "          0, 249, 253, 245, 126,   0,   0,   0,   0,   0,   0,   0,   0,\n",
              "          0,   0],\n",
              "       [  0,   0,   0,   0,   0,   0,   0,   0,   0,   0,   0,  14, 101,\n",
              "        223, 253, 248, 124,   0,   0,   0,   0,   0,   0,   0,   0,   0,\n",
              "          0,   0],\n",
              "       [  0,   0,   0,   0,   0,   0,   0,   0,   0,  11, 166, 239, 253,\n",
              "        253, 253, 187,  30,   0,   0,   0,   0,   0,   0,   0,   0,   0,\n",
              "          0,   0],\n",
              "       [  0,   0,   0,   0,   0,   0,   0,   0,   0,  16, 248, 250, 253,\n",
              "        253, 253, 253, 232, 213, 111,   2,   0,   0,   0,   0,   0,   0,\n",
              "          0,   0],\n",
              "       [  0,   0,   0,   0,   0,   0,   0,   0,   0,   0,   0,  43,  98,\n",
              "         98, 208, 253, 253, 253, 253, 187,  22,   0,   0,   0,   0,   0,\n",
              "          0,   0],\n",
              "       [  0,   0,   0,   0,   0,   0,   0,   0,   0,   0,   0,   0,   0,\n",
              "          0,   9,  51, 119, 253, 253, 253,  76,   0,   0,   0,   0,   0,\n",
              "          0,   0],\n",
              "       [  0,   0,   0,   0,   0,   0,   0,   0,   0,   0,   0,   0,   0,\n",
              "          0,   0,   0,   1, 183, 253, 253, 139,   0,   0,   0,   0,   0,\n",
              "          0,   0],\n",
              "       [  0,   0,   0,   0,   0,   0,   0,   0,   0,   0,   0,   0,   0,\n",
              "          0,   0,   0,   0, 182, 253, 253, 104,   0,   0,   0,   0,   0,\n",
              "          0,   0],\n",
              "       [  0,   0,   0,   0,   0,   0,   0,   0,   0,   0,   0,   0,   0,\n",
              "          0,   0,   0,  85, 249, 253, 253,  36,   0,   0,   0,   0,   0,\n",
              "          0,   0],\n",
              "       [  0,   0,   0,   0,   0,   0,   0,   0,   0,   0,   0,   0,   0,\n",
              "          0,   0,  60, 214, 253, 253, 173,  11,   0,   0,   0,   0,   0,\n",
              "          0,   0],\n",
              "       [  0,   0,   0,   0,   0,   0,   0,   0,   0,   0,   0,   0,   0,\n",
              "          0,  98, 247, 253, 253, 226,   9,   0,   0,   0,   0,   0,   0,\n",
              "          0,   0],\n",
              "       [  0,   0,   0,   0,   0,   0,   0,   0,   0,   0,   0,   0,  42,\n",
              "        150, 252, 253, 253, 233,  53,   0,   0,   0,   0,   0,   0,   0,\n",
              "          0,   0],\n",
              "       [  0,   0,   0,   0,   0,   0,  42, 115,  42,  60, 115, 159, 240,\n",
              "        253, 253, 250, 175,  25,   0,   0,   0,   0,   0,   0,   0,   0,\n",
              "          0,   0],\n",
              "       [  0,   0,   0,   0,   0,   0, 187, 253, 253, 253, 253, 253, 253,\n",
              "        253, 197,  86,   0,   0,   0,   0,   0,   0,   0,   0,   0,   0,\n",
              "          0,   0],\n",
              "       [  0,   0,   0,   0,   0,   0, 103, 253, 253, 253, 253, 253, 232,\n",
              "         67,   1,   0,   0,   0,   0,   0,   0,   0,   0,   0,   0,   0,\n",
              "          0,   0],\n",
              "       [  0,   0,   0,   0,   0,   0,   0,   0,   0,   0,   0,   0,   0,\n",
              "          0,   0,   0,   0,   0,   0,   0,   0,   0,   0,   0,   0,   0,\n",
              "          0,   0],\n",
              "       [  0,   0,   0,   0,   0,   0,   0,   0,   0,   0,   0,   0,   0,\n",
              "          0,   0,   0,   0,   0,   0,   0,   0,   0,   0,   0,   0,   0,\n",
              "          0,   0],\n",
              "       [  0,   0,   0,   0,   0,   0,   0,   0,   0,   0,   0,   0,   0,\n",
              "          0,   0,   0,   0,   0,   0,   0,   0,   0,   0,   0,   0,   0,\n",
              "          0,   0]], dtype=uint8)</pre></div><script>\n",
              "      (() => {\n",
              "      const titles = ['show data', 'hide data'];\n",
              "      let index = 0\n",
              "      document.querySelector('#id-fd38e06d-d32b-42d6-a02c-4a5aea165f6a button').onclick = (e) => {\n",
              "        document.querySelector('#id-fd38e06d-d32b-42d6-a02c-4a5aea165f6a').classList.toggle('show_array');\n",
              "        index = (++index) % 2;\n",
              "        document.querySelector('#id-fd38e06d-d32b-42d6-a02c-4a5aea165f6a button').textContent = titles[index];\n",
              "        e.preventDefault();\n",
              "        e.stopPropagation();\n",
              "      }\n",
              "      })();\n",
              "    </script>"
            ]
          },
          "metadata": {},
          "execution_count": 42
        }
      ]
    },
    {
      "cell_type": "code",
      "source": [
        "# Makes from every 28*28 cells a block\n",
        "# for Prediction we must hace percentage of being the same number which is between 0 and 255, so we divide it by 255\n",
        "\n",
        "X_train = X_train.reshape((X_train.shape[0], 28 * 28))\n",
        "X_train = X_train.astype(\"float32\") / 255\n",
        "\n",
        "X_test = X_test.reshape((X_test.shape[0], 28 * 28))\n",
        "X_test = X_test.astype(\"float32\") / 255\n",
        "\n",
        "X_valid = X_valid.reshape((X_valid.shape[0], 28 * 28))\n",
        "X_valid = X_valid.astype(\"float32\") / 255\n",
        "\n",
        "X_train.shape"
      ],
      "metadata": {
        "id": "wqf7maP6ACb1",
        "colab": {
          "base_uri": "https://localhost:8080/"
        },
        "outputId": "b35b6e4e-4cd0-491e-d548-97ca79f0b9bf"
      },
      "execution_count": null,
      "outputs": [
        {
          "output_type": "execute_result",
          "data": {
            "text/plain": [
              "(50000, 784)"
            ]
          },
          "metadata": {},
          "execution_count": 43
        }
      ]
    },
    {
      "cell_type": "code",
      "source": [
        "# Convert integer labels to one-hot encoded vectors\n",
        "\n",
        "y_train = to_categorical(y_train)\n",
        "y_valid = to_categorical(y_valid)\n",
        "y_test  = to_categorical(y_test)\n",
        "\n",
        "y_train"
      ],
      "metadata": {
        "id": "gcDOpIHnAgd6",
        "colab": {
          "base_uri": "https://localhost:8080/"
        },
        "outputId": "4d625f1b-5104-46d5-bb34-8a4c47b1b605"
      },
      "execution_count": null,
      "outputs": [
        {
          "output_type": "execute_result",
          "data": {
            "text/plain": [
              "array([[0., 0., 0., ..., 0., 0., 0.],\n",
              "       [0., 0., 0., ..., 0., 1., 0.],\n",
              "       [0., 0., 0., ..., 1., 0., 0.],\n",
              "       ...,\n",
              "       [0., 0., 0., ..., 0., 0., 0.],\n",
              "       [0., 0., 0., ..., 0., 0., 0.],\n",
              "       [0., 0., 0., ..., 0., 1., 0.]], dtype=float32)"
            ]
          },
          "metadata": {},
          "execution_count": 44
        }
      ]
    },
    {
      "cell_type": "code",
      "source": [
        "# Instantiate the model.\n",
        "model = tf.keras.Sequential()\n",
        "\n",
        "# Build the model.\n",
        "model.add(Dense(128, activation='relu', input_shape=(X_train.shape[1],))) # input_shape is just for layer 1\n",
        "model.add(Dense(128, activation='relu'))\n",
        "model.add(Dense(10,  activation=\"softmax\")) # softmax activation function gives percentages for classification. that will be just in last layer\n",
        "\n",
        "# Display the model summary.\n",
        "model.summary()"
      ],
      "metadata": {
        "colab": {
          "base_uri": "https://localhost:8080/"
        },
        "id": "yyZsvex2A0Uu",
        "outputId": "f692b13f-c8ba-4876-da48-10277c127421"
      },
      "execution_count": null,
      "outputs": [
        {
          "output_type": "stream",
          "name": "stdout",
          "text": [
            "Model: \"sequential_2\"\n",
            "_________________________________________________________________\n",
            " Layer (type)                Output Shape              Param #   \n",
            "=================================================================\n",
            " dense_6 (Dense)             (None, 128)               100480    \n",
            "                                                                 \n",
            " dense_7 (Dense)             (None, 128)               16512     \n",
            "                                                                 \n",
            " dense_8 (Dense)             (None, 10)                1290      \n",
            "                                                                 \n",
            "=================================================================\n",
            "Total params: 118282 (462.04 KB)\n",
            "Trainable params: 118282 (462.04 KB)\n",
            "Non-trainable params: 0 (0.00 Byte)\n",
            "_________________________________________________________________\n"
          ]
        }
      ]
    },
    {
      "cell_type": "code",
      "source": [
        "# model.compile(optimizer=\"rmsprop\",\n",
        "#              loss=\"categorical_crossentropy\",\n",
        "#              metrics=[\"accuracy\"])\n",
        "\n",
        "model.compile(optimizer='Adam',loss='MSE',metrics='accuracy') # MSE loss is for classification too"
      ],
      "metadata": {
        "id": "YS3TGtHZA6IA"
      },
      "execution_count": null,
      "outputs": []
    },
    {
      "cell_type": "code",
      "source": [
        "# epochs is the number of forward and backward process\n",
        "\n",
        "# Ex: If batch_size is 64, we input our data in 64 batches.\n",
        "#     So every batch will have all/batch_size members.\n",
        "#     The lesser batch_size we have, the more high variance (Overfit) we will have\n",
        "\n",
        "training_results = model.fit(X_train,\n",
        "                             y_train,\n",
        "                             epochs=21,\n",
        "                             batch_size=64,\n",
        "                             validation_data=(X_valid, y_valid))"
      ],
      "metadata": {
        "colab": {
          "base_uri": "https://localhost:8080/"
        },
        "id": "xmFBhpMcA6fI",
        "outputId": "e6168c14-a032-44ca-f94c-dfa53672cc56"
      },
      "execution_count": null,
      "outputs": [
        {
          "output_type": "stream",
          "name": "stdout",
          "text": [
            "Epoch 1/21\n",
            "782/782 [==============================] - 8s 9ms/step - loss: 0.0134 - accuracy: 0.9138 - val_loss: 0.0070 - val_accuracy: 0.9548\n",
            "Epoch 2/21\n",
            "782/782 [==============================] - 8s 10ms/step - loss: 0.0063 - accuracy: 0.9596 - val_loss: 0.0058 - val_accuracy: 0.9631\n",
            "Epoch 3/21\n",
            "782/782 [==============================] - 6s 8ms/step - loss: 0.0045 - accuracy: 0.9709 - val_loss: 0.0050 - val_accuracy: 0.9669\n",
            "Epoch 4/21\n",
            "782/782 [==============================] - 8s 10ms/step - loss: 0.0036 - accuracy: 0.9778 - val_loss: 0.0046 - val_accuracy: 0.9703\n",
            "Epoch 5/21\n",
            "782/782 [==============================] - 6s 8ms/step - loss: 0.0030 - accuracy: 0.9814 - val_loss: 0.0041 - val_accuracy: 0.9730\n",
            "Epoch 6/21\n",
            "782/782 [==============================] - 8s 10ms/step - loss: 0.0025 - accuracy: 0.9848 - val_loss: 0.0045 - val_accuracy: 0.9703\n",
            "Epoch 7/21\n",
            "782/782 [==============================] - 7s 9ms/step - loss: 0.0022 - accuracy: 0.9866 - val_loss: 0.0046 - val_accuracy: 0.9713\n",
            "Epoch 8/21\n",
            "782/782 [==============================] - 8s 11ms/step - loss: 0.0020 - accuracy: 0.9875 - val_loss: 0.0046 - val_accuracy: 0.9709\n",
            "Epoch 9/21\n",
            "782/782 [==============================] - 7s 8ms/step - loss: 0.0018 - accuracy: 0.9886 - val_loss: 0.0044 - val_accuracy: 0.9712\n",
            "Epoch 10/21\n",
            "782/782 [==============================] - 7s 9ms/step - loss: 0.0017 - accuracy: 0.9894 - val_loss: 0.0035 - val_accuracy: 0.9777\n",
            "Epoch 11/21\n",
            "782/782 [==============================] - 6s 8ms/step - loss: 0.0014 - accuracy: 0.9916 - val_loss: 0.0038 - val_accuracy: 0.9760\n",
            "Epoch 12/21\n",
            "782/782 [==============================] - 7s 9ms/step - loss: 0.0014 - accuracy: 0.9912 - val_loss: 0.0039 - val_accuracy: 0.9753\n",
            "Epoch 13/21\n",
            "782/782 [==============================] - 7s 8ms/step - loss: 0.0013 - accuracy: 0.9925 - val_loss: 0.0038 - val_accuracy: 0.9766\n",
            "Epoch 14/21\n",
            "782/782 [==============================] - 7s 9ms/step - loss: 0.0013 - accuracy: 0.9924 - val_loss: 0.0037 - val_accuracy: 0.9762\n",
            "Epoch 15/21\n",
            "782/782 [==============================] - 6s 8ms/step - loss: 0.0012 - accuracy: 0.9927 - val_loss: 0.0037 - val_accuracy: 0.9770\n",
            "Epoch 16/21\n",
            "782/782 [==============================] - 8s 10ms/step - loss: 0.0011 - accuracy: 0.9930 - val_loss: 0.0037 - val_accuracy: 0.9774\n",
            "Epoch 17/21\n",
            "782/782 [==============================] - 7s 8ms/step - loss: 0.0010 - accuracy: 0.9940 - val_loss: 0.0037 - val_accuracy: 0.9771\n",
            "Epoch 18/21\n",
            "782/782 [==============================] - 8s 10ms/step - loss: 0.0012 - accuracy: 0.9930 - val_loss: 0.0039 - val_accuracy: 0.9764\n",
            "Epoch 19/21\n",
            "782/782 [==============================] - 7s 9ms/step - loss: 9.9211e-04 - accuracy: 0.9940 - val_loss: 0.0036 - val_accuracy: 0.9772\n",
            "Epoch 20/21\n",
            "782/782 [==============================] - 8s 10ms/step - loss: 9.8199e-04 - accuracy: 0.9942 - val_loss: 0.0039 - val_accuracy: 0.9762\n",
            "Epoch 21/21\n",
            "782/782 [==============================] - 6s 8ms/step - loss: 8.6463e-04 - accuracy: 0.9949 - val_loss: 0.0039 - val_accuracy: 0.9777\n"
          ]
        }
      ]
    },
    {
      "cell_type": "code",
      "source": [
        "model.evaluate(X_test,y_test,batch_size=64)"
      ],
      "metadata": {
        "colab": {
          "base_uri": "https://localhost:8080/"
        },
        "id": "f_CHLT6aky_Y",
        "outputId": "f8c81a4a-dd35-41b1-a5f5-458243f28e9b"
      },
      "execution_count": null,
      "outputs": [
        {
          "output_type": "stream",
          "name": "stdout",
          "text": [
            "157/157 [==============================] - 0s 2ms/step - loss: 0.0040 - accuracy: 0.9766\n"
          ]
        },
        {
          "output_type": "execute_result",
          "data": {
            "text/plain": [
              "[0.003959922585636377, 0.9765999913215637]"
            ]
          },
          "metadata": {},
          "execution_count": 52
        }
      ]
    },
    {
      "cell_type": "code",
      "source": [
        "# Details of this function??????????????\n",
        "\n",
        "def plot_results(metrics, title=None, ylabel=None, ylim=None, metric_name=None, color=None):\n",
        "\n",
        "    fig, ax = plt.subplots()\n",
        "\n",
        "    if not (isinstance(metric_name, list) or isinstance(metric_name, tuple)):\n",
        "        metrics = [metrics,]\n",
        "        metric_name = [metric_name,]\n",
        "\n",
        "    for idx, metric in enumerate(metrics):\n",
        "        ax.plot(metric, color=color[idx])\n",
        "\n",
        "    plt.xlabel(\"Epoch\")\n",
        "    plt.ylabel(ylabel)\n",
        "    plt.title(title)\n",
        "    plt.xlim([0, 20])\n",
        "    plt.ylim(ylim)\n",
        "    # Tailor x-axis tick marks\n",
        "    ax.xaxis.set_major_locator(MultipleLocator(5))\n",
        "    ax.xaxis.set_major_formatter(FormatStrFormatter('%d'))\n",
        "    ax.xaxis.set_minor_locator(MultipleLocator(1))\n",
        "    plt.grid(True)\n",
        "    plt.legend(metric_name)\n",
        "    plt.show()\n",
        "    plt.close()"
      ],
      "metadata": {
        "id": "eQcNtoTOA86K"
      },
      "execution_count": null,
      "outputs": []
    },
    {
      "cell_type": "code",
      "source": [
        "# Retrieve training results.\n",
        "train_loss = training_results.history[\"loss\"]\n",
        "train_acc  = training_results.history[\"accuracy\"]\n",
        "valid_loss = training_results.history[\"val_loss\"]\n",
        "valid_acc  = training_results.history[\"val_accuracy\"]\n",
        "\n",
        "plot_results([ train_loss, valid_loss ],\n",
        "            ylabel=\"Loss\",\n",
        "            ylim = [0.0, 0.5],\n",
        "            metric_name=[\"Training Loss\", \"Validation Loss\"],\n",
        "            color=[\"g\", \"b\"]);\n",
        "\n",
        "plot_results([ train_acc, valid_acc ],\n",
        "            ylabel=\"Accuracy\",\n",
        "            ylim = [0.9, 1.0],\n",
        "            metric_name=[\"Training Accuracy\", \"Validation Accuracy\"],\n",
        "            color=[\"g\", \"b\"])"
      ],
      "metadata": {
        "colab": {
          "base_uri": "https://localhost:8080/",
          "height": 903
        },
        "id": "2aevuMsABBJ_",
        "outputId": "2ecdfb1e-3853-477c-bd48-24d3a6006478"
      },
      "execution_count": null,
      "outputs": [
        {
          "output_type": "display_data",
          "data": {
            "text/plain": [
              "<Figure size 640x480 with 1 Axes>"
            ],
            "image/png": "[encoded data removed]"
          },
          "metadata": {}
        },
        {
          "output_type": "display_data",
          "data": {
            "text/plain": [
              "<Figure size 640x480 with 1 Axes>"
            ],
            "image/png": "[encoded data removed]"
          },
          "metadata": {}
        }
      ]
    },
    {
      "cell_type": "code",
      "source": [
        "predictions = model.predict(X_test)\n",
        "index = 0 # up to 9999\n",
        "print('Ground truth for test digit: ',y_test[index])\n",
        "print('\\n');\n",
        "print('Predictions for each class:\\n')\n",
        "for i in range(10):\n",
        "    print('digit:', i, ' probability: ', predictions[index][i])"
      ],
      "metadata": {
        "colab": {
          "base_uri": "https://localhost:8080/"
        },
        "id": "mZBn48uNBDfO",
        "outputId": "dc046d51-4c6f-4420-924e-035a421ed5b4"
      },
      "execution_count": null,
      "outputs": [
        {
          "output_type": "stream",
          "name": "stdout",
          "text": [
            "313/313 [==============================] - 1s 2ms/step\n",
            "Ground truth for test digit:  [0. 0. 0. 0. 0. 0. 0. 1. 0. 0.]\n",
            "\n",
            "\n",
            "Predictions for each class:\n",
            "\n",
            "digit: 0  probability:  2.6247764e-16\n",
            "digit: 1  probability:  1.8901339e-12\n",
            "digit: 2  probability:  6.2397865e-11\n",
            "digit: 3  probability:  1.992754e-08\n",
            "digit: 4  probability:  1.5941708e-16\n",
            "digit: 5  probability:  5.8870194e-13\n",
            "digit: 6  probability:  1.6192968e-20\n",
            "digit: 7  probability:  0.99999994\n",
            "digit: 8  probability:  1.4530444e-15\n",
            "digit: 9  probability:  9.9337395e-14\n"
          ]
        }
      ]
    },
    {
      "cell_type": "code",
      "source": [
        "# Generate predictions for the test dataset.\n",
        "predictions = model.predict(X_test)\n",
        "\n",
        "# For each sample image in the test dataset, select the class label with the highest probability.\n",
        "predicted_labels = [np.argmax(i) for i in predictions]"
      ],
      "metadata": {
        "colab": {
          "base_uri": "https://localhost:8080/"
        },
        "id": "izYKxdnVBHLy",
        "outputId": "d152058f-083a-4b24-c43f-5bdc388313d7"
      },
      "execution_count": null,
      "outputs": [
        {
          "output_type": "stream",
          "name": "stdout",
          "text": [
            "313/313 [==============================] - 1s 3ms/step\n"
          ]
        }
      ]
    },
    {
      "cell_type": "code",
      "source": [
        "# What does exactly this plot?????????\n",
        "\n",
        "# Convert one-hot encoded labels to integers.\n",
        "y_test_integer_labels = tf.argmax(y_test, axis=1)\n",
        "\n",
        "# Generate a confusion matrix for the test dataset.\n",
        "cm = tf.math.confusion_matrix(labels=y_test_integer_labels, predictions=predicted_labels)\n",
        "\n",
        "# Plot the confusion matrix as a heatmap.\n",
        "plt.figure(figsize=[15, 8])\n",
        "import seaborn as sn\n",
        "sn.heatmap(cm, annot=True, fmt='d', annot_kws={\"size\": 14})\n",
        "plt.xlabel('Predicted')\n",
        "plt.ylabel('Truth')\n",
        "plt.show()"
      ],
      "metadata": {
        "colab": {
          "base_uri": "https://localhost:8080/",
          "height": 701
        },
        "id": "oSi_3YrFBZJv",
        "outputId": "036a62e7-b24d-446d-bdc7-5840eb6e0369"
      },
      "execution_count": null,
      "outputs": [
        {
          "output_type": "display_data",
          "data": {
            "text/plain": [
              "<Figure size 1500x800 with 2 Axes>"
            ],
            "image/png": "[encoded data removed]"
          },
          "metadata": {}
        }
      ]
    },
    {
      "cell_type": "code",
      "source": [
        "# For one member\n",
        "\n",
        "plt.imshow(X_train_all[0])\n",
        "print(y_train_all[0])\n",
        "\n",
        "a=X_train_all[0].reshape(1,28*28)\n",
        "a=a.astype('float32')/255"
      ],
      "metadata": {
        "colab": {
          "base_uri": "https://localhost:8080/",
          "height": 447
        },
        "id": "AQXghchMmLAG",
        "outputId": "cac23222-7d2a-4326-d713-8c940918ba1f"
      },
      "execution_count": null,
      "outputs": [
        {
          "output_type": "stream",
          "name": "stdout",
          "text": [
            "5\n"
          ]
        },
        {
          "output_type": "display_data",
          "data": {
            "text/plain": [
              "<Figure size 640x480 with 1 Axes>"
            ],
            "image/png": "[encoded data removed]"
          },
          "metadata": {}
        }
      ]
    },
    {
      "cell_type": "code",
      "source": [
        "# It shows that is 6\n",
        "\n",
        "model.predict(a)"
      ],
      "metadata": {
        "colab": {
          "base_uri": "https://localhost:8080/"
        },
        "id": "2FROo2BdmOlK",
        "outputId": "6e694ffa-77f2-4067-c9eb-92758f18f5c9"
      },
      "execution_count": null,
      "outputs": [
        {
          "output_type": "stream",
          "name": "stdout",
          "text": [
            "1/1 [==============================] - 0s 24ms/step\n"
          ]
        },
        {
          "output_type": "execute_result",
          "data": {
            "text/plain": [
              "array([[2.49467656e-20, 1.44556783e-10, 3.31439592e-17, 2.99112380e-01,\n",
              "        5.37355717e-26, 7.00887561e-01, 1.18199715e-23, 8.86282506e-15,\n",
              "        5.62195884e-16, 3.69912868e-12]], dtype=float32)"
            ]
          },
          "metadata": {},
          "execution_count": 67
        }
      ]
    },
    {
      "cell_type": "code",
      "source": [
        "# What are verbose, random_sate and ...?"
      ],
      "metadata": {
        "id": "chUe47TRBZl-"
      },
      "execution_count": null,
      "outputs": []
    }
  ]
}